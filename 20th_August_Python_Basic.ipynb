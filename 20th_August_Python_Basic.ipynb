{
 "cells": [
  {
   "cell_type": "raw",
   "id": "d719c30b-f546-4bee-aef5-7f90bc2cb89e",
   "metadata": {},
   "source": [
    "TOPIC: String Based Assignment Problem\n",
    "1. Write a program to reverse a string."
   ]
  },
  {
   "cell_type": "code",
   "execution_count": 4,
   "id": "bbaa4a41-1b5c-49ef-b177-526e6597b59e",
   "metadata": {},
   "outputs": [
    {
     "name": "stdin",
     "output_type": "stream",
     "text": [
      "Enter a string:  nskjddkjsd\n"
     ]
    },
    {
     "name": "stdout",
     "output_type": "stream",
     "text": [
      "Reversed string: dsjkddjksn\n"
     ]
    }
   ],
   "source": [
    "def reverse_string(input_string):     # def: This keyword is used to declare the beginning of a function definition.\n",
    "    return input_string[::-1]   # ::-1 is used for reverse the string\n",
    "\n",
    "# Input string from the user\n",
    "user_input = input(\"Enter a string: \")\n",
    "\n",
    "# Reversing the string\n",
    "reversed_string = reverse_string(user_input)\n",
    "\n",
    "print(\"Reversed string:\", reversed_string)"
   ]
  },
  {
   "cell_type": "markdown",
   "id": "1b4dbd09-3436-48d5-b825-ce8bb686f713",
   "metadata": {},
   "source": [
    "2. Check if a string is a palindrome."
   ]
  },
  {
   "cell_type": "code",
   "execution_count": 11,
   "id": "56e44fb0-584e-4c11-aed9-c7a2b8fb28b1",
   "metadata": {},
   "outputs": [
    {
     "name": "stdin",
     "output_type": "stream",
     "text": [
      "Enter a string:  nitin\n"
     ]
    },
    {
     "name": "stdout",
     "output_type": "stream",
     "text": [
      "It's a palindrome!\n"
     ]
    }
   ],
   "source": [
    "def is_palindrome(string):\n",
    "    return string == string[::-1] # shweta == atewhs it will compare both string\n",
    "\n",
    "# Input string from the user\n",
    "user_input = input(\"Enter a string: \")\n",
    "\n",
    "if is_palindrome(user_input):\n",
    "    print(\"It's a palindrome!\")\n",
    "else:\n",
    "    print(\"It's not a palindrome.\")\n"
   ]
  },
  {
   "cell_type": "markdown",
   "id": "187d7229-fbb6-4d0b-959d-d711659219d4",
   "metadata": {},
   "source": [
    "3. Convert a string to uppercase."
   ]
  },
  {
   "cell_type": "code",
   "execution_count": 14,
   "id": "75f4d784-028f-4cc4-995b-3ea0b2fc6600",
   "metadata": {},
   "outputs": [
    {
     "name": "stdin",
     "output_type": "stream",
     "text": [
      "enter string shweta\n"
     ]
    },
    {
     "name": "stdout",
     "output_type": "stream",
     "text": [
      "upper string: SHWETA\n"
     ]
    }
   ],
   "source": [
    "input_string = input(\"Enter String\")\n",
    "upper_string = input_string.upper() # upper() used to convert string entire string in upper case\n",
    "                     \n",
    "print(\"upper string:\" , upper_string)"
   ]
  },
  {
   "cell_type": "markdown",
   "id": "34252b2b-2bef-43cd-be12-f7e727b9d631",
   "metadata": {},
   "source": [
    "4. Convert a string to lowercase."
   ]
  },
  {
   "cell_type": "code",
   "execution_count": 2,
   "id": "3befd112-58e6-46c0-b41e-a24a65d305b8",
   "metadata": {},
   "outputs": [
    {
     "name": "stdin",
     "output_type": "stream",
     "text": [
      "Enter String SHWETA\n"
     ]
    },
    {
     "name": "stdout",
     "output_type": "stream",
     "text": [
      "lower string: shweta\n"
     ]
    }
   ],
   "source": [
    "input_string = input(\"Enter String\")                     \n",
    "lower_string = input_string.lower() # lower() used to convert entire string into lower case\n",
    "\n",
    "print(\"lower string:\", lower_string)"
   ]
  },
  {
   "cell_type": "markdown",
   "id": "1426847c-ad91-456c-8135-cec8f4c6ac2e",
   "metadata": {},
   "source": [
    "5. Count the number of vowels in a string.\n"
   ]
  },
  {
   "cell_type": "code",
   "execution_count": 9,
   "id": "b9e28940-1205-44c0-8820-638c53d643ba",
   "metadata": {},
   "outputs": [
    {
     "name": "stdin",
     "output_type": "stream",
     "text": [
      "Enter String shweta\n"
     ]
    },
    {
     "name": "stdout",
     "output_type": "stream",
     "text": [
      "Number of vowels in string 2\n"
     ]
    }
   ],
   "source": [
    "input_string = input(\"Enter String\")\n",
    "\n",
    "vowels = \"aeiouAEIOU\" # These are vowels in upper and lower case\n",
    "count = 0\n",
    "\n",
    "for character in input_string:  #The use of in is to check if a value is present in a sequence\n",
    "    if character in vowels:\n",
    "        count += 1        \n",
    "        \n",
    "print(\"Number of vowels in string\", count)"
   ]
  },
  {
   "cell_type": "markdown",
   "id": "18b9d2bf-8472-4de1-b3a1-d449d3cd4b72",
   "metadata": {},
   "source": [
    "6. Count the number of consonants in a string."
   ]
  },
  {
   "cell_type": "code",
   "execution_count": 14,
   "id": "66db67a8-6fea-48b9-8402-23f93af1d878",
   "metadata": {},
   "outputs": [
    {
     "name": "stdin",
     "output_type": "stream",
     "text": [
      "Enter String shweta\n"
     ]
    },
    {
     "name": "stdout",
     "output_type": "stream",
     "text": [
      "Number of vowels in string 4\n"
     ]
    }
   ],
   "source": [
    "input_String =input(\"Enter String\")\n",
    "\n",
    "consonants = \"bcdfghjklmnpqrstvwxyzBCDFGHJKLMNPQRSTVWXYZ\" # List of consonants accepet vowels :\"aeiou\"\n",
    "count=0\n",
    "\n",
    "for character in input_string: #The use of in is to check if a value is present in a sequence\n",
    "    if character in consonants:\n",
    "        count +=1\n",
    "\n",
    "print(\"Number of vowels in string\", count)"
   ]
  },
  {
   "cell_type": "markdown",
   "id": "d184cf25-f146-4427-8166-29aec86a8ce0",
   "metadata": {},
   "source": [
    "7. Remove all whitespaces from a string."
   ]
  },
  {
   "cell_type": "code",
   "execution_count": 16,
   "id": "ccde3a66-d4d2-4b4f-86b0-c72935f50b3e",
   "metadata": {},
   "outputs": [
    {
     "name": "stdin",
     "output_type": "stream",
     "text": [
      "Enter String shweta s h weta\n"
     ]
    },
    {
     "name": "stdout",
     "output_type": "stream",
     "text": [
      "String without whitespace: shwetashweta\n"
     ]
    }
   ],
   "source": [
    "input_string = input(\"Enter String\")\n",
    "white_space = input_string.replace(\" \", \"\") # replace is use to replace the space with, without space of string\n",
    "\n",
    "print(\"String without whitespace:\", white_space)"
   ]
  },
  {
   "cell_type": "markdown",
   "id": "b0bdca93-f883-45d4-8e83-97b231cea0e4",
   "metadata": {},
   "source": [
    "8. Find the length of a string without using the `len()` function."
   ]
  },
  {
   "cell_type": "code",
   "execution_count": 4,
   "id": "0ff25800-3fd5-4f4d-a9b6-e526b4d87561",
   "metadata": {},
   "outputs": [
    {
     "name": "stdin",
     "output_type": "stream",
     "text": [
      "Enter String: Shweta\n"
     ]
    },
    {
     "name": "stdout",
     "output_type": "stream",
     "text": [
      "length of stringis:\n",
      "6\n"
     ]
    }
   ],
   "source": [
    "input_string = input(\"Enter String:\") \n",
    "count = 0 # initially count is o\n",
    "\n",
    "for i in input_string:\n",
    "    count = count+1  # count value is incement by 1 like 0=0+1\n",
    "    \n",
    "print(\"length of stringis:\")\n",
    "print(count)"
   ]
  },
  {
   "cell_type": "markdown",
   "id": "754d1d3b-e383-41a1-b602-202a85515cc3",
   "metadata": {},
   "source": [
    "9. Check if a string contains a specific word."
   ]
  },
  {
   "cell_type": "code",
   "execution_count": 7,
   "id": "54e9a87a-57c2-4a1c-844a-99e9f80a208d",
   "metadata": {},
   "outputs": [
    {
     "name": "stdin",
     "output_type": "stream",
     "text": [
      "Enter a string:  Shweta Nimbenni\n",
      "Enter the word to search for:  Kadganche\n"
     ]
    },
    {
     "name": "stdout",
     "output_type": "stream",
     "text": [
      "The string does not contain 'Kadganche'.\n"
     ]
    }
   ],
   "source": [
    "def contains_word(input_string, target_word):\n",
    "    return target_word in input_string\n",
    "\n",
    "user_input = input(\"Enter a string: \") # here we enter string\n",
    "search_word = input(\"Enter the word to search for: \") # here we search word\n",
    "\n",
    "if contains_word(user_input, search_word):  # it check the entered word and existing word\n",
    "    print(f\"The string contains '{search_word}'.\")\n",
    "else:\n",
    "    print(f\"The string does not contain '{search_word}'.\")\n"
   ]
  },
  {
   "cell_type": "markdown",
   "id": "b20538e2-c4c4-4fce-95bd-399aaf8b821c",
   "metadata": {},
   "source": [
    "10. Replace a word in a string with another word."
   ]
  },
  {
   "cell_type": "code",
   "execution_count": 3,
   "id": "1a2aafe4-1f14-42e1-8aa8-da34345b7fe6",
   "metadata": {},
   "outputs": [
    {
     "name": "stdin",
     "output_type": "stream",
     "text": [
      "Enter String Shweta Nimbenni\n",
      "Enter Old String Nimbenni\n",
      "Enter New String Kadganche\n"
     ]
    },
    {
     "name": "stdout",
     "output_type": "stream",
     "text": [
      "Modified String: Shweta Kadganche\n"
     ]
    }
   ],
   "source": [
    "def replace_word(input_string, old_string, new_string): # def is keyword used to define function\n",
    "  return input_string.replace(old_string, new_string)\n",
    "    \n",
    "user_input = input(\"Enter String\")\n",
    "old_string = input(\"Enter Old String\")\n",
    "new_string = input(\"Enter New String\")\n",
    "\n",
    "new_string = replace_word(user_input, old_string, new_string) # here it will take input then replace new word with old word\n",
    "print(\"Modified String:\", new_string)"
   ]
  },
  {
   "cell_type": "markdown",
   "id": "ea6faaa6-97fb-45fd-a992-cd4670828eef",
   "metadata": {},
   "source": [
    "11. Count the occurrences of a word in a string."
   ]
  },
  {
   "cell_type": "code",
   "execution_count": 5,
   "id": "8b0d6172-94ac-4c4e-8295-961642cf4f6f",
   "metadata": {},
   "outputs": [
    {
     "name": "stdin",
     "output_type": "stream",
     "text": [
      "Enter string shweta shweta Kadganche Kadganche Nimbenni\n"
     ]
    },
    {
     "name": "stdout",
     "output_type": "stream",
     "text": [
      "{'shweta': 2, 'Kadganche': 2, 'Nimbenni': 1}\n"
     ]
    }
   ],
   "source": [
    "def word_count(str):\n",
    "    counts = dict()  # # Initialize an empty dictionary\n",
    "    words = str.split() # Split the input string into words\n",
    "\n",
    "    for word in words:\n",
    "        if word in counts:\n",
    "            counts[word] += 1\n",
    "        else:\n",
    "            counts[word] = 1\n",
    "\n",
    "    return counts\n",
    "\n",
    "input_string = input(\"Enter string\")\n",
    "\n",
    "print( word_count(input_string))"
   ]
  },
  {
   "cell_type": "markdown",
   "id": "8be04e5e-5fc1-48b7-9e40-bf17089f0fba",
   "metadata": {},
   "source": [
    "12. Find the first occurrence of a word in a string."
   ]
  },
  {
   "cell_type": "code",
   "execution_count": 11,
   "id": "7dbc9f33-09a8-483f-a3f8-7cfdcb221f1b",
   "metadata": {},
   "outputs": [
    {
     "name": "stdin",
     "output_type": "stream",
     "text": [
      "Enter a string:  Shweta\n",
      "Enter the word to search for:  s\n"
     ]
    },
    {
     "name": "stdout",
     "output_type": "stream",
     "text": [
      "The word 's' first occurs at index 0.\n"
     ]
    }
   ],
   "source": [
    "def find_first_occurrence(input_string, target_word):\n",
    "    return input_string.lower().find(target_word.lower()) #WThe find() or index() methods to search for a substring in a string, they return the index (position) at which the substring is found. If the substring is not found, they return -1.\n",
    "\n",
    "user_input = input(\"Enter a string: \")\n",
    "search_word = input(\"Enter the word to search for: \")\n",
    "\n",
    "first_occurrence = find_first_occurrence(user_input, search_word)\n",
    "\n",
    "if first_occurrence != -1: # != -1 is used to check if a value is not equal to -1\n",
    "    print(f\"The word '{search_word}' first occurs at index {first_occurrence}.\")\n",
    "else:\n",
    "    print(f\"The word '{search_word}' was not found in the string.\")\n",
    "\n"
   ]
  },
  {
   "cell_type": "markdown",
   "id": "7f67c6dc-befc-4528-829f-6167a91f3694",
   "metadata": {},
   "source": [
    "13. Find the last occurrence of a word in a string."
   ]
  },
  {
   "cell_type": "code",
   "execution_count": 12,
   "id": "b3f32e18-6fa3-4608-94b4-ff39238a2201",
   "metadata": {},
   "outputs": [
    {
     "name": "stdin",
     "output_type": "stream",
     "text": [
      "Enter a string:  ShwetaKadganche\n",
      "Enter the word to search for:  a\n"
     ]
    },
    {
     "name": "stdout",
     "output_type": "stream",
     "text": [
      "The word 'a' last occurs at index 10.\n"
     ]
    }
   ],
   "source": [
    "def find_last_occurrence(input_string, target_word):\n",
    "    return input_string.lower().rfind(target_word.lower()) #These methods are similar to find() and index(), but they start searching from the end of the string\n",
    "\n",
    "user_input = input(\"Enter a string: \")\n",
    "search_word = input(\"Enter the word to search for: \")\n",
    "\n",
    "last_occurrence = find_last_occurrence(user_input, search_word)\n",
    "\n",
    "if last_occurrence != -1:\n",
    "    print(f\"The word '{search_word}' last occurs at index {last_occurrence}.\")\n",
    "else:\n",
    "    print(f\"The word '{search_word}' was not found in the string.\")\n"
   ]
  },
  {
   "cell_type": "markdown",
   "id": "e0a84074-a17b-46f2-86df-3c37b99c4f51",
   "metadata": {},
   "source": [
    "14. Split a string into a list of words."
   ]
  },
  {
   "cell_type": "code",
   "execution_count": 17,
   "id": "c7bd8f1f-e36a-4183-935c-450dacc26190",
   "metadata": {},
   "outputs": [
    {
     "name": "stdin",
     "output_type": "stream",
     "text": [
      "Enter String My name is shweta\n"
     ]
    },
    {
     "name": "stdout",
     "output_type": "stream",
     "text": [
      "The Splited String is: ['My', 'name', 'is', 'shweta']\n"
     ]
    }
   ],
   "source": [
    "input_string = input(\"Enter String\") #Each word is separated by whitespace characters\n",
    "\n",
    "split_string = input_string.split()\n",
    "\n",
    "print(\"The Splited String is:\", split_string)"
   ]
  },
  {
   "cell_type": "markdown",
   "id": "e69ca19f-b01a-42f8-9926-f81e27547ceb",
   "metadata": {},
   "source": [
    "15. Join a list of words into a string."
   ]
  },
  {
   "cell_type": "code",
   "execution_count": 26,
   "id": "25befc82-a7ff-4558-a89d-c9d8cee26f4d",
   "metadata": {},
   "outputs": [
    {
     "name": "stdout",
     "output_type": "stream",
     "text": [
      "Joined string: Hello, this is a test.\n"
     ]
    }
   ],
   "source": [
    "word_list = ['Hello,', 'this', 'is', 'a', 'test.']\n",
    "\n",
    "# Join the list of words into a string\n",
    "joined_string = ' '.join(word_list) #The join() method takes an iterable (like a list) and concatenates its elements using the specified separator\n",
    "\n",
    "print(\"Joined string:\", joined_string)\n"
   ]
  },
  {
   "cell_type": "markdown",
   "id": "7fcb4528-4a51-40d0-9ef6-f8ee742d417f",
   "metadata": {},
   "source": [
    "16. Convert a string where words are separated by spaces to one where words\n",
    "are separated by underscores."
   ]
  },
  {
   "cell_type": "code",
   "execution_count": 28,
   "id": "b1c5800f-add2-413d-8d45-7dff44012752",
   "metadata": {},
   "outputs": [
    {
     "name": "stdin",
     "output_type": "stream",
     "text": [
      "Enter a string with spaces:  sh wet a\n"
     ]
    },
    {
     "name": "stdout",
     "output_type": "stream",
     "text": [
      "String with underscores: sh_wet_a\n"
     ]
    }
   ],
   "source": [
    "input_string = input(\"Enter a string with spaces: \")\n",
    "\n",
    "# Replace spaces with underscores\n",
    "underscored_string = input_string.replace(\" \", \"_\")\n",
    "\n",
    "print(\"String with underscores:\", underscored_string)\n",
    "\n"
   ]
  },
  {
   "cell_type": "markdown",
   "id": "73e48d5f-8a13-40f1-835e-75fd419e76ac",
   "metadata": {},
   "source": [
    "17. Check if a string starts with a specific word or phrase."
   ]
  },
  {
   "cell_type": "code",
   "execution_count": 31,
   "id": "34f4e2c9-79bc-4d05-b589-555e6b2363ab",
   "metadata": {},
   "outputs": [
    {
     "name": "stdin",
     "output_type": "stream",
     "text": [
      "Enter a string:  shweta\n",
      "Enter the phrase to check:  shweta\n"
     ]
    },
    {
     "name": "stdout",
     "output_type": "stream",
     "text": [
      "The string starts with 'shweta'.\n"
     ]
    }
   ],
   "source": [
    "input_string = input(\"Enter a string: \")\n",
    "start_phrase = input(\"Enter the phrase to check: \")\n",
    "\n",
    "if input_string.startswith(start_phrase):\n",
    "    print(f\"The string starts with '{start_phrase}'.\")\n",
    "else:\n",
    "    print(f\"The string does not start with '{start_phrase}'.\")\n"
   ]
  },
  {
   "cell_type": "markdown",
   "id": "7e889e04-7db1-42c5-804a-dee53adde8dc",
   "metadata": {},
   "source": [
    "18. Check if a string ends with a specific word or phrase."
   ]
  },
  {
   "cell_type": "code",
   "execution_count": 34,
   "id": "85181bc0-9071-48fa-8084-5bda55253bb5",
   "metadata": {},
   "outputs": [
    {
     "name": "stdin",
     "output_type": "stream",
     "text": [
      "Enter a string:  shweta kadganche\n",
      "Enter the phrase to check:  nimbenni\n"
     ]
    },
    {
     "name": "stdout",
     "output_type": "stream",
     "text": [
      "The string does not end with 'nimbenni'.\n"
     ]
    }
   ],
   "source": [
    "input_string = input(\"Enter a string: \")\n",
    "end_phrase = input(\"Enter the phrase to check: \")\n",
    "\n",
    "if input_string.endswith(end_phrase):\n",
    "    print(f\"The string ends with '{end_phrase}'.\")\n",
    "else:\n",
    "    print(f\"The string does not end with '{end_phrase}'.\")\n"
   ]
  },
  {
   "cell_type": "markdown",
   "id": "0a4ac9b7-9ce7-4851-a3ed-4fca422f478b",
   "metadata": {},
   "source": [
    "19. Convert a string to title case (e.g., \"hello world\" to \"Hello World\")."
   ]
  },
  {
   "cell_type": "code",
   "execution_count": 37,
   "id": "dcf9f9cc-c97d-4e77-94ff-4b5b66ca14bd",
   "metadata": {},
   "outputs": [
    {
     "name": "stdin",
     "output_type": "stream",
     "text": [
      "Enter the string: my name is shweta\n"
     ]
    },
    {
     "name": "stdout",
     "output_type": "stream",
     "text": [
      "Title case string: My Name Is Shweta\n"
     ]
    }
   ],
   "source": [
    "input_string = input(\"Enter the string:\")\n",
    "\n",
    "# Convert the string to title case\n",
    "title_case_string = input_string.title()\n",
    "\n",
    "print(\"Title case string:\", title_case_string)"
   ]
  },
  {
   "cell_type": "markdown",
   "id": "2928b92e-ce96-4719-bc71-24e10d609727",
   "metadata": {},
   "source": [
    "20. Find the longest word in a string."
   ]
  },
  {
   "cell_type": "code",
   "execution_count": 38,
   "id": "a5d39a6c-8c05-4680-ba5b-394a38c96823",
   "metadata": {},
   "outputs": [
    {
     "name": "stdin",
     "output_type": "stream",
     "text": [
      "Enter a string:  my name is shweta\n"
     ]
    },
    {
     "name": "stdout",
     "output_type": "stream",
     "text": [
      "Longest word: shweta\n"
     ]
    }
   ],
   "source": [
    "#find_longest_word function takes an input string, splits it into words using the split() method, \n",
    "#and then uses the max() function with the key parameter set to len to find the word with the maximum length.\n",
    "\n",
    "def find_longest_word(input_string):\n",
    "    words = input_string.split()\n",
    "    longest_word = max(words, key=len)\n",
    "    return longest_word\n",
    "\n",
    "user_input = input(\"Enter a string: \")\n",
    "longest_word = find_longest_word(user_input)\n",
    "\n",
    "print(\"Longest word:\", longest_word)\n"
   ]
  },
  {
   "cell_type": "markdown",
   "id": "c14e3046-51ff-4c3b-9a64-b0a0eda1691f",
   "metadata": {},
   "source": [
    "21. Find the shortest word in a string."
   ]
  },
  {
   "cell_type": "code",
   "execution_count": 40,
   "id": "a02a5d3f-7309-4a04-8348-e90b1d70a135",
   "metadata": {},
   "outputs": [
    {
     "name": "stdin",
     "output_type": "stream",
     "text": [
      "Enter a string:  I am shweta\n"
     ]
    },
    {
     "name": "stdout",
     "output_type": "stream",
     "text": [
      "Shortest word: I\n"
     ]
    }
   ],
   "source": [
    "def find_shortest_word(input_string):\n",
    "    words = input_string.split()\n",
    "    shortest_word = min(words, key=len)\n",
    "    return shortest_word\n",
    "\n",
    "user_input = input(\"Enter a string: \")\n",
    "shortest_word = find_shortest_word(user_input)\n",
    "\n",
    "print(\"Shortest word:\", shortest_word)"
   ]
  },
  {
   "cell_type": "markdown",
   "id": "c4d2e915-5f65-4870-bb30-5067e8bf1db0",
   "metadata": {},
   "source": [
    "22. Reverse the order of words in a string."
   ]
  },
  {
   "cell_type": "code",
   "execution_count": 41,
   "id": "e336ce0c-505f-4a6c-831e-7cc6f71b946d",
   "metadata": {},
   "outputs": [
    {
     "name": "stdin",
     "output_type": "stream",
     "text": [
      "Enter a string:  my name is shweta\n"
     ]
    },
    {
     "name": "stdout",
     "output_type": "stream",
     "text": [
      "String with reversed word order: shweta is name my\n"
     ]
    }
   ],
   "source": [
    "def reverse_words_order(input_string):\n",
    "    words = input_string.split()\n",
    "    reversed_words = reversed(words)\n",
    "    reversed_string = ' '.join(reversed_words)\n",
    "    return reversed_string\n",
    "\n",
    "user_input = input(\"Enter a string: \")\n",
    "reversed_order = reverse_words_order(user_input)\n",
    "\n",
    "print(\"String with reversed word order:\", reversed_order)"
   ]
  },
  {
   "cell_type": "markdown",
   "id": "f4ce2d20-0f38-4fe1-ab43-d6e8f4522693",
   "metadata": {},
   "source": [
    "23. Check if a string is alphanumeric."
   ]
  },
  {
   "cell_type": "code",
   "execution_count": 44,
   "id": "0d571db5-d677-439c-993f-820ba709a1f0",
   "metadata": {},
   "outputs": [
    {
     "name": "stdin",
     "output_type": "stream",
     "text": [
      "Enter String: #@%^\n"
     ]
    },
    {
     "name": "stdout",
     "output_type": "stream",
     "text": [
      "The string is not alphanumeric.\n"
     ]
    }
   ],
   "source": [
    "input_string = input(\"Enter String:\")\n",
    "\n",
    "if input_string.isalnum():\n",
    "    print(\"The string is alphanumeric.\")\n",
    "else:\n",
    "    print(\"The string is not alphanumeric.\")"
   ]
  },
  {
   "cell_type": "code",
   "execution_count": 1,
   "id": "e1ecc7e7-a215-48dc-b003-d28860dcebca",
   "metadata": {},
   "outputs": [
    {
     "name": "stdin",
     "output_type": "stream",
     "text": [
      "Enter a string:  shwet5ta\n"
     ]
    },
    {
     "name": "stdout",
     "output_type": "stream",
     "text": [
      "Extracted digits: 5\n"
     ]
    }
   ],
   "source": [
    "def extract_digits(input_string):\n",
    "    digits = \"\"\n",
    "    for char in input_string:\n",
    "        if char.isdigit():   # it will check if the  character is digit\n",
    "            digits += char\n",
    "    return digits\n",
    "\n",
    "user_input = input(\"Enter a string: \")\n",
    "digit_string = extract_digits(user_input)\n",
    "\n",
    "print(\"Extracted digits:\", digit_string)\n"
   ]
  },
  {
   "cell_type": "markdown",
   "id": "6a0ffc43-0b20-4473-947e-e825bd5ecdf7",
   "metadata": {},
   "source": [
    "25. Extract all alphabets from a string."
   ]
  },
  {
   "cell_type": "code",
   "execution_count": 4,
   "id": "c050cd2e-f3bc-499e-87bf-c7ead3611fb1",
   "metadata": {},
   "outputs": [
    {
     "name": "stdin",
     "output_type": "stream",
     "text": [
      "Enter a string:  shwet53664\n"
     ]
    },
    {
     "name": "stdout",
     "output_type": "stream",
     "text": [
      "Extracted alphabets: shwet\n"
     ]
    }
   ],
   "source": [
    "def extract_alphabets(input_string):\n",
    "    alphabets = \"\"\n",
    "    for char in input_string:\n",
    "        if char.isalpha():\n",
    "            alphabets += char\n",
    "    return alphabets\n",
    "\n",
    "user_input = input(\"Enter a string: \")\n",
    "alphabet_string = extract_alphabets(user_input)\n",
    "\n",
    "print(\"Extracted alphabets:\", alphabet_string)\n"
   ]
  },
  {
   "cell_type": "markdown",
   "id": "8fd50a5c-2a43-4043-9915-b1a5a7d6dbca",
   "metadata": {},
   "source": [
    "26. Count the number of uppercase letters in a string."
   ]
  },
  {
   "cell_type": "code",
   "execution_count": 6,
   "id": "5ba1c88f-43cc-4215-a8f1-a7667438807a",
   "metadata": {},
   "outputs": [
    {
     "name": "stdin",
     "output_type": "stream",
     "text": [
      "Enter a string:  ShwetA\n"
     ]
    },
    {
     "name": "stdout",
     "output_type": "stream",
     "text": [
      "Number of uppercase letters: 2\n"
     ]
    }
   ],
   "source": [
    "def count_uppercase(input_string):\n",
    "    uppercase_count = 0\n",
    "    for char in input_string:\n",
    "        if char.isupper():  # it check character is upper\n",
    "            uppercase_count += 1 # The += operator is used in Python for an augmented assignment. It is a shorthand way of updating the value of a variable by adding another value to it\n",
    "    return uppercase_count\n",
    "\n",
    "user_input = input(\"Enter a string: \")\n",
    "uppercase_count = count_uppercase(user_input)\n",
    "\n",
    "print(\"Number of uppercase letters:\", uppercase_count)"
   ]
  },
  {
   "cell_type": "markdown",
   "id": "6f0c642d-1fed-4639-885d-314bd8acb48d",
   "metadata": {},
   "source": [
    "27. Count the number of lowercase letters in a string.\n"
   ]
  },
  {
   "cell_type": "code",
   "execution_count": 7,
   "id": "2418abc6-fcbf-4c47-9420-0ca3213ef735",
   "metadata": {},
   "outputs": [
    {
     "name": "stdin",
     "output_type": "stream",
     "text": [
      "Enter a string:  shweta\n"
     ]
    },
    {
     "name": "stdout",
     "output_type": "stream",
     "text": [
      "Number of uppercase letters: 6\n"
     ]
    }
   ],
   "source": [
    "def count_lowercase(input_string):\n",
    "    lowercase_count = 0\n",
    "    for char in input_string:\n",
    "        if char.islower():  # it check character is lower\n",
    "            lowercase_count += 1 # The += operator is used in Python for an augmented assignment. It is a shorthand way of updating the value of a variable by adding another value to it\n",
    "    return lowercase_count\n",
    "\n",
    "user_input = input(\"Enter a string: \")\n",
    "lowercase_count = count_lowercase(user_input)\n",
    "\n",
    "print(\"Number of uppercase letters:\", lowercase_count)"
   ]
  },
  {
   "cell_type": "markdown",
   "id": "998f6c8c-c682-44cd-98ca-d075946584a9",
   "metadata": {},
   "source": [
    "28. Swap the case of each character in a string."
   ]
  },
  {
   "cell_type": "code",
   "execution_count": 10,
   "id": "11a10ac2-b93f-48a9-980d-cbeea2bec4b5",
   "metadata": {},
   "outputs": [
    {
     "name": "stdin",
     "output_type": "stream",
     "text": [
      "Enter a string:  Shwet Kadganche\n"
     ]
    },
    {
     "name": "stdout",
     "output_type": "stream",
     "text": [
      "String with swapped case: sHWET kADGANCHE\n"
     ]
    }
   ],
   "source": [
    "input_string = input(\"Enter a string: \")\n",
    "\n",
    "# Swap the case of each character\n",
    "swapped_string = input_string.swapcase() # The swapcase() method converts uppercase characters to lowercase and lowercase characters to uppercase\n",
    "\n",
    "print(\"String with swapped case:\", swapped_string)"
   ]
  },
  {
   "cell_type": "markdown",
   "id": "9ba53edd-c32c-44f2-832a-ad1fc28b8862",
   "metadata": {},
   "source": [
    "29. Remove a specific word from a string."
   ]
  },
  {
   "cell_type": "code",
   "execution_count": 12,
   "id": "96cb8b5a-1033-4fd6-be44-6340f270f40c",
   "metadata": {},
   "outputs": [
    {
     "name": "stdin",
     "output_type": "stream",
     "text": [
      "Enter a string:  shweta kadganche\n",
      "Enter the word to remove:  shweta\n"
     ]
    },
    {
     "name": "stdout",
     "output_type": "stream",
     "text": [
      "Modified string:  kadganche\n"
     ]
    }
   ],
   "source": [
    "def remove_word(input_string, word_to_remove):\n",
    "    return input_string.replace(word_to_remove, \"\")\n",
    "\n",
    "user_input = input(\"Enter a string: \")\n",
    "word_to_remove = input(\"Enter the word to remove: \")\n",
    "\n",
    "modified_string = remove_word(user_input, word_to_remove)\n",
    "\n",
    "print(\"Modified string:\", modified_string)"
   ]
  },
  {
   "cell_type": "markdown",
   "id": "58110740-a1f6-450e-80e0-4bbb99d03c3f",
   "metadata": {},
   "source": [
    "30. Check if a string is a valid email address."
   ]
  },
  {
   "cell_type": "code",
   "execution_count": 14,
   "id": "7ba7a88c-0410-40a6-9f40-cdd408cc7313",
   "metadata": {},
   "outputs": [
    {
     "name": "stdin",
     "output_type": "stream",
     "text": [
      "Enter an email address:  shwet.kadganche1@gmail.com\n"
     ]
    },
    {
     "name": "stdout",
     "output_type": "stream",
     "text": [
      "Valid email address.\n"
     ]
    }
   ],
   "source": [
    "import re # import re is a statement in Python that imports the built-in re module, which stands for \"regular expressions\n",
    "\n",
    "def is_valid_email(email):\n",
    "    email_pattern = r'^[\\w\\.-]+@[\\w\\.-]+\\.\\w+$' # Define a simple email pattern (this may not cover all valid cases)\n",
    "    return re.match(email_pattern, email) is not None #re.match() function from the re module is used to match a regular expression pattern against an email address\n",
    "                                                      # The is not None check is used to determine if the value returned by some_function() is not equal to None\n",
    "user_email = input(\"Enter an email address: \")\n",
    "\n",
    "if is_valid_email(user_email):\n",
    "    print(\"Valid email address.\")\n",
    "else:\n",
    "    print(\"Invalid email address.\")"
   ]
  },
  {
   "cell_type": "markdown",
   "id": "43e5602c-a460-43c8-97c0-c2559d95bb74",
   "metadata": {},
   "source": [
    "31. Extract the username from an email address string."
   ]
  },
  {
   "cell_type": "code",
   "execution_count": 3,
   "id": "5148119d-d7bc-462e-921e-22853f313c90",
   "metadata": {},
   "outputs": [
    {
     "name": "stdin",
     "output_type": "stream",
     "text": [
      "Enter an email address:  shweta.kadganche@gmail.com\n"
     ]
    },
    {
     "name": "stdout",
     "output_type": "stream",
     "text": [
      "Extracted username: shweta.kadganche\n"
     ]
    }
   ],
   "source": [
    "def extract_username(email):\n",
    "    return email.split('@')[0] #split('@')[0] extracts the username part (the first element of the split result)\n",
    "\n",
    "user_email = input(\"Enter an email address:\")\n",
    "username = extract_username(user_email)\n",
    "\n",
    "print(\"Extracted username:\", username)"
   ]
  },
  {
   "cell_type": "markdown",
   "id": "b8a87503-564c-4ac3-9cd4-61032e6978d8",
   "metadata": {},
   "source": [
    "32. Extract the domain name from an email address string."
   ]
  },
  {
   "cell_type": "code",
   "execution_count": 7,
   "id": "2585c36a-1d77-4025-b193-5a17e093a357",
   "metadata": {},
   "outputs": [
    {
     "name": "stdin",
     "output_type": "stream",
     "text": [
      "Enter an email address:  shweta.kadganche@gmail.com\n"
     ]
    },
    {
     "name": "stdout",
     "output_type": "stream",
     "text": [
      "Extracted domain: gmail.com\n"
     ]
    }
   ],
   "source": [
    "def extract_domain(email):\n",
    "    return email.split('@')[1] #split('@')[1] extracts the domain name part (the second element of the split result)\n",
    "\n",
    "user_email = input(\"Enter an email address: \")\n",
    "domain = extract_domain(user_email)\n",
    "\n",
    "print(\"Extracted domain:\", domain)"
   ]
  },
  {
   "cell_type": "markdown",
   "id": "3766ecb1-7f11-4589-9d66-03bf964405fc",
   "metadata": {},
   "source": [
    "33. Replace multiple spaces in a string with a single space."
   ]
  },
  {
   "cell_type": "code",
   "execution_count": 9,
   "id": "1c253d39-bed6-43d8-a3aa-096afa3eef08",
   "metadata": {},
   "outputs": [
    {
     "name": "stdin",
     "output_type": "stream",
     "text": [
      "Enter a string with multiple spaces:  shwe   tea kadgan    che\n"
     ]
    },
    {
     "name": "stdout",
     "output_type": "stream",
     "text": [
      "Modified string: shwe tea kadgan che\n"
     ]
    }
   ],
   "source": [
    "def replace_multiple_spaces(input_string):\n",
    "    while '  ' in input_string: # uses a while loop to continuously replace occurrences of two or more consecutive spaces with a single space using the replace() method\n",
    "        input_string = input_string.replace('  ', ' ')\n",
    "    return input_string\n",
    "\n",
    "user_input = input(\"Enter a string with multiple spaces: \")\n",
    "modified_string = replace_multiple_spaces(user_input)\n",
    "\n",
    "print(\"Modified string:\", modified_string)\n"
   ]
  },
  {
   "cell_type": "markdown",
   "id": "8ee47074-da19-4ee4-b268-162dae23b2bf",
   "metadata": {},
   "source": [
    "34. Check if a string is a valid URL."
   ]
  },
  {
   "cell_type": "code",
   "execution_count": 13,
   "id": "3160ce62-12bc-44a0-981c-07fb57ac3fcd",
   "metadata": {},
   "outputs": [
    {
     "name": "stdin",
     "output_type": "stream",
     "text": [
      "Enter a URL:  https://www.youtube.com/watch?v=QUVvkZCnIOA\n"
     ]
    },
    {
     "name": "stdout",
     "output_type": "stream",
     "text": [
      "Valid URL.\n"
     ]
    }
   ],
   "source": [
    "from urllib.parse import urlparse  #is part of the Python standard library, to parse and validate URLs.\n",
    "\n",
    "def is_valid_url(url):\n",
    "    try:\n",
    "        result = urlparse(url)\n",
    "        return all([result.scheme, result.netloc]) # This attribute represents the scheme or protocol part of the URL (e.g., \"http\", \"https\", \"ftp\")\n",
    "                                                   #This attribute represents the network location part of the URL, which typically includes the domain name or IP address (e.g., \"www.example.com\")\n",
    "    except:\n",
    "        return False\n",
    "\n",
    "user_url = input(\"Enter a URL: \")\n",
    "\n",
    "if is_valid_url(user_url):\n",
    "    print(\"Valid URL.\")\n",
    "else:\n",
    "    print(\"Invalid URL.\")\n"
   ]
  },
  {
   "cell_type": "markdown",
   "id": "bfdb6899-450d-4713-90fb-25674a6ea7d6",
   "metadata": {},
   "source": [
    "35. Extract the protocol (http or https) from a URL string."
   ]
  },
  {
   "cell_type": "code",
   "execution_count": 17,
   "id": "b7e3c23b-8257-4926-847b-0c58d414fd80",
   "metadata": {},
   "outputs": [
    {
     "name": "stdin",
     "output_type": "stream",
     "text": [
      "Enter url:  https://www.youtube.com/watch?v=QUVvkZCnIOA\n"
     ]
    },
    {
     "name": "stdout",
     "output_type": "stream",
     "text": [
      "Extraeted url:  https\n"
     ]
    }
   ],
   "source": [
    "def extract_protocol(url):\n",
    "    return url.split(':')[0] # it split from : and accept 0th index\n",
    "\n",
    "user_url = input(\"Enter url:\")\n",
    "protocol = extract_protocol(user_url)\n",
    "\n",
    "print(\"Extraeted url:\", protocol)"
   ]
  },
  {
   "cell_type": "markdown",
   "id": "c85014e9-507a-47be-af81-164b697bd2dd",
   "metadata": {},
   "source": [
    "36. Find the frequency of each character in a string."
   ]
  },
  {
   "cell_type": "code",
   "execution_count": 19,
   "id": "b59da2ab-d663-466d-9186-44af5f56460c",
   "metadata": {},
   "outputs": [
    {
     "name": "stdin",
     "output_type": "stream",
     "text": [
      "Enter a string:  shwetaaaaa\n"
     ]
    },
    {
     "name": "stdout",
     "output_type": "stream",
     "text": [
      "Character frequencies:\n",
      "'s': 1\n",
      "'h': 1\n",
      "'w': 1\n",
      "'e': 1\n",
      "'t': 1\n",
      "'a': 5\n"
     ]
    }
   ],
   "source": [
    "def character_frequency(input_string):\n",
    "    frequency = {}\n",
    "    for char in input_string:\n",
    "        if char in frequency:\n",
    "            frequency[char] += 1\n",
    "        else:\n",
    "            frequency[char] = 1\n",
    "    return frequency\n",
    "\n",
    "user_input = input(\"Enter a string: \")\n",
    "char_freq = character_frequency(user_input)\n",
    "\n",
    "print(\"Character frequencies:\")\n",
    "for char, freq in char_freq.items():\n",
    "    print(f\"'{char}': {freq}\")        "
   ]
  },
  {
   "cell_type": "markdown",
   "id": "18280aed-46ae-4694-8969-bb5e439c165c",
   "metadata": {},
   "source": [
    "37. Remove all punctuation from a string."
   ]
  },
  {
   "cell_type": "code",
   "execution_count": 5,
   "id": "a2e3a6af-d023-4663-90ea-6240942184cb",
   "metadata": {},
   "outputs": [
    {
     "name": "stdin",
     "output_type": "stream",
     "text": [
      "Enter a string with punctuation:  Sh#,weta:\n"
     ]
    },
    {
     "name": "stdout",
     "output_type": "stream",
     "text": [
      "String without punctuation: Shweta\n"
     ]
    }
   ],
   "source": [
    "import string #This imports the string module, which contains the string.punctuation constant.\n",
    "\n",
    "def remove_punctuation(input_string): \n",
    "    translator = str.maketrans(\"\", \"\", string.punctuation) \n",
    "\n",
    "user_input = input(\"Enter a string with punctuation: \")\n",
    "no_punctuation = remove_punctuation(user_input) \n",
    "\n",
    "print(\"String without punctuation:\", no_punctuation)\n"
   ]
  },
  {
   "cell_type": "markdown",
   "id": "89253cf3-ab28-4a00-9499-077c2b893037",
   "metadata": {},
   "source": [
    "38. Check if a string contains only digits."
   ]
  },
  {
   "cell_type": "code",
   "execution_count": 6,
   "id": "5456f41a-d7b6-4b2d-8781-7a61fe87e9a4",
   "metadata": {},
   "outputs": [
    {
     "name": "stdin",
     "output_type": "stream",
     "text": [
      "Enter a string:  shweta23456\n"
     ]
    },
    {
     "name": "stdout",
     "output_type": "stream",
     "text": [
      "The string does not contain only digits.\n"
     ]
    }
   ],
   "source": [
    "input_str = input(\"Enter a string: \")\n",
    "if input_str.isdigit(): #used to check contain only digits\n",
    "    print(\"The string contains only digits.\")\n",
    "else:\n",
    "    print(\"The string does not contain only digits.\")"
   ]
  },
  {
   "cell_type": "markdown",
   "id": "617879d8-fd7c-4eba-a93f-6faf64152068",
   "metadata": {},
   "source": [
    "39. Check if a string contains only alphabets."
   ]
  },
  {
   "cell_type": "code",
   "execution_count": 8,
   "id": "6874bc3f-63bb-463a-958c-c7f8c18d819a",
   "metadata": {},
   "outputs": [
    {
     "name": "stdin",
     "output_type": "stream",
     "text": [
      "Enter String: Shweta\n"
     ]
    },
    {
     "name": "stdout",
     "output_type": "stream",
     "text": [
      "The string contains only Alphabets.\n"
     ]
    }
   ],
   "source": [
    "input_string = input(\"Enter String:\")\n",
    "if input_string.isalpha(): # used to check only alphabets\n",
    "    print(\"The string contains only Alphabets.\")\n",
    "else:\n",
    "    print(\"The string contains does not Alphabets.\")"
   ]
  },
  {
   "cell_type": "markdown",
   "id": "a8b7b0fb-c481-44fa-b548-b2757c152e6d",
   "metadata": {},
   "source": [
    "40. Convert a string to a list of characters."
   ]
  },
  {
   "cell_type": "code",
   "execution_count": 11,
   "id": "93fbd41f-6dcd-417c-949b-eb6d7a58d635",
   "metadata": {},
   "outputs": [
    {
     "name": "stdin",
     "output_type": "stream",
     "text": [
      "Enter String Shweta\n"
     ]
    },
    {
     "name": "stdout",
     "output_type": "stream",
     "text": [
      "String to List: ['S', 'h', 'w', 'e', 't', 'a']\n"
     ]
    }
   ],
   "source": [
    "input_string = input(\"Enter String\")\n",
    " \n",
    "chars = list(input_string) # we can convert string to list using list()\n",
    "print(\"String to List:\", chars)  "
   ]
  },
  {
   "cell_type": "markdown",
   "id": "f7d5d7ca-967f-4e22-8212-4bbacbeeef90",
   "metadata": {},
   "source": [
    "41. Check if two strings are anagrams."
   ]
  },
  {
   "cell_type": "code",
   "execution_count": 4,
   "id": "b8264db8-f798-44c1-8eed-801cfb5d785c",
   "metadata": {},
   "outputs": [
    {
     "name": "stdin",
     "output_type": "stream",
     "text": [
      "Enter String: Listen\n",
      "Enter String: silent\n"
     ]
    },
    {
     "name": "stdout",
     "output_type": "stream",
     "text": [
      "The strings aren't anagrams.\n"
     ]
    }
   ],
   "source": [
    "# function to check if two strings are\n",
    "# anagram or not\n",
    "def check(s1, s2):\n",
    "\t\n",
    "\t# the sorted strings are checked\n",
    "\tif(sorted(s1)== sorted(s2)):\n",
    "\t\tprint(\"The strings are anagrams.\")\n",
    "\telse:\n",
    "\t\tprint(\"The strings aren't anagrams.\")\t\t\n",
    "\t\t\n",
    "# driver code\n",
    "s1 = input(\"Enter String:\")\n",
    "s2 = input(\"Enter String:\")\n",
    "check(s1, s2)"
   ]
  },
  {
   "cell_type": "markdown",
   "id": "1b2eed4f-b57e-4dc7-b01f-ba59dc54e477",
   "metadata": {},
   "source": [
    "42. Encode a string using a Caesar cipher."
   ]
  },
  {
   "cell_type": "code",
   "execution_count": 7,
   "id": "09503e47-0a97-4c6a-8c3f-cc006898ba77",
   "metadata": {},
   "outputs": [
    {
     "name": "stdin",
     "output_type": "stream",
     "text": [
      "Enter Text: Hello Shweta\n"
     ]
    },
    {
     "name": "stdout",
     "output_type": "stream",
     "text": [
      "Encoded text: Khoor Vkzhwd\n"
     ]
    }
   ],
   "source": [
    "def caesar_cipher_encode(text, shift):\n",
    "    result = \"\"\n",
    "    for char in text:\n",
    "        # Check if the character is a letter\n",
    "        if char.isalpha():\n",
    "            # Determine whether the character is uppercase or lowercase\n",
    "            if char.isupper():\n",
    "                # Shift uppercase letter by 'shift' positions (wrap around if needed)\n",
    "                encoded_char = chr(((ord(char) - ord('A') + shift) % 26) + ord('A'))\n",
    "            else:\n",
    "                # Shift lowercase letter by 'shift' positions (wrap around if needed)\n",
    "                encoded_char = chr(((ord(char) - ord('a') + shift) % 26) + ord('a'))\n",
    "        else:\n",
    "            # If the character is not a letter, leave it unchanged\n",
    "            encoded_char = char\n",
    "        result += encoded_char\n",
    "    return result\n",
    "\n",
    "# Example usage:\n",
    "text = input(\"Enter Text:\")\n",
    "shift = 3\n",
    "encoded_text = caesar_cipher_encode(text, shift)\n",
    "print(\"Encoded text:\", encoded_text)"
   ]
  },
  {
   "cell_type": "markdown",
   "id": "79d90363-ffb3-426a-9df9-1bb456b7d0db",
   "metadata": {},
   "source": [
    "43. Decode a Caesar cipher encoded string."
   ]
  },
  {
   "cell_type": "code",
   "execution_count": 9,
   "id": "9f5021ed-5643-4348-89c4-aabac2884db0",
   "metadata": {},
   "outputs": [
    {
     "name": "stdin",
     "output_type": "stream",
     "text": [
      "Enter String swheta\n"
     ]
    },
    {
     "name": "stdout",
     "output_type": "stream",
     "text": [
      "Decoded text: ptebqx\n"
     ]
    }
   ],
   "source": [
    "def caesar_cipher_decode(encoded_text, shift):\n",
    "    # Initialize an empty string to store the decoded text\n",
    "    decoded_text = \"\"\n",
    "\n",
    "    # Iterate through each character in the encoded text\n",
    "    for char in encoded_text:\n",
    "        # Check if the character is a letter\n",
    "        if char.isalpha():\n",
    "            # Determine whether the character is uppercase or lowercase\n",
    "            if char.isupper():\n",
    "                # Shift the uppercase letter back by 'shift' positions (wrap around if needed)\n",
    "                decoded_char = chr(((ord(char) - ord('A') - shift) % 26) + ord('A'))\n",
    "            else:\n",
    "                # Shift the lowercase letter back by 'shift' positions (wrap around if needed)\n",
    "                decoded_char = chr(((ord(char) - ord('a') - shift) % 26) + ord('a'))\n",
    "        else:\n",
    "            # If the character is not a letter, leave it unchanged\n",
    "            decoded_char = char\n",
    "\n",
    "        # Append the decoded character to the result\n",
    "        decoded_text += decoded_char\n",
    "\n",
    "    return decoded_text\n",
    "\n",
    "# Example usage:\n",
    "encoded_text = input(\"Enter String\")\n",
    "shift = 3\n",
    "decoded_text = caesar_cipher_decode(encoded_text, shift)\n",
    "print(\"Decoded text:\", decoded_text)"
   ]
  },
  {
   "cell_type": "markdown",
   "id": "bfb15bcb-00ae-4973-addb-80a56dd172d7",
   "metadata": {},
   "source": [
    "44. Find the most frequent word in a string."
   ]
  },
  {
   "cell_type": "code",
   "execution_count": 1,
   "id": "f16cfca2-6862-43c3-96f0-fd2674d47e6a",
   "metadata": {},
   "outputs": [
    {
     "name": "stdin",
     "output_type": "stream",
     "text": [
      "Enter String: Hi this this is shweta shweta shweta\n"
     ]
    },
    {
     "name": "stdout",
     "output_type": "stream",
     "text": [
      "The most frequent word is 'shweta' with a count of 3.\n"
     ]
    }
   ],
   "source": [
    "import re\n",
    "from collections import Counter\n",
    "\n",
    "def most_frequent_word(text):\n",
    "    # Use regular expression to find words (ignores punctuation and case)\n",
    "    words = re.findall(r'\\b\\w+\\b', text.lower())\n",
    "\n",
    "    # Use Counter to count the occurrences of each word\n",
    "    word_counts = Counter(words)\n",
    "\n",
    "    # Find the most common word and its count\n",
    "    most_common_word, count = word_counts.most_common(1)[0]\n",
    "\n",
    "    return most_common_word, count\n",
    "\n",
    "# Example usage:\n",
    "text = input(\"Enter String:\")\n",
    "most_common_word, count = most_frequent_word(text)\n",
    "\n",
    "print(f\"The most frequent word is '{most_common_word}' with a count of {count}.\")\n"
   ]
  },
  {
   "cell_type": "markdown",
   "id": "6c0be53a-85ef-4340-af93-74c553138014",
   "metadata": {},
   "source": [
    "45. Find all unique words in a string."
   ]
  },
  {
   "cell_type": "code",
   "execution_count": 3,
   "id": "7349cf64-48fc-4a08-8854-2a89a4e98e54",
   "metadata": {},
   "outputs": [
    {
     "name": "stdin",
     "output_type": "stream",
     "text": [
      "Enter String: hi this is shweta nimbenni\n"
     ]
    },
    {
     "name": "stdout",
     "output_type": "stream",
     "text": [
      "shweta\n",
      "hi\n",
      "nimbenni\n",
      "is\n",
      "this\n"
     ]
    }
   ],
   "source": [
    "import re\n",
    "\n",
    "def find_unique_words(text):\n",
    "    # Use regular expression to find words (ignores punctuation and case)\n",
    "    words = re.findall(r'\\b\\w+\\b', text.lower())\n",
    "\n",
    "    # Create a set to store unique words\n",
    "    unique_words = set(words)\n",
    "\n",
    "    return unique_words\n",
    "\n",
    "# Example usage:\n",
    "text = input(\"Enter String:\")\n",
    "unique_words = find_unique_words(text)\n",
    "\n",
    "# Print the unique words\n",
    "for word in unique_words:\n",
    "    print(word)"
   ]
  },
  {
   "cell_type": "markdown",
   "id": "acec140f-6559-4f3c-b760-3305532c5804",
   "metadata": {},
   "source": [
    "46. Count the number of syllables in a string."
   ]
  },
  {
   "cell_type": "code",
   "execution_count": 2,
   "id": "39ed7227-fed3-40a9-adde-b106b845dad3",
   "metadata": {},
   "outputs": [
    {
     "name": "stdin",
     "output_type": "stream",
     "text": [
      "Enter a word:  Shweta\n"
     ]
    },
    {
     "name": "stdout",
     "output_type": "stream",
     "text": [
      "Number of syllables: 2\n"
     ]
    }
   ],
   "source": [
    "def count_syllables(word):\n",
    "    vowels = \"AEIOUaeiou\"\n",
    "    syllable_count = 0\n",
    "    prev_char_was_vowel = False\n",
    "\n",
    "    for char in word:\n",
    "        if char in vowels:\n",
    "            if not prev_char_was_vowel:\n",
    "                syllable_count += 1\n",
    "            prev_char_was_vowel = True\n",
    "        else:\n",
    "            prev_char_was_vowel = False\n",
    "\n",
    "    # Adjust for common endings\n",
    "    if word.endswith((\"es\", \"ed\")):\n",
    "        syllable_count -= 1\n",
    "    if word.endswith(\"e\"):\n",
    "        syllable_count -= 1\n",
    "\n",
    "    # Ensure at least one syllable\n",
    "    return max(1, syllable_count)\n",
    "\n",
    "user_input = input(\"Enter a word: \")\n",
    "syllable_count = count_syllables(user_input)\n",
    "\n",
    "print(\"Number of syllables:\", syllable_count)"
   ]
  },
  {
   "cell_type": "markdown",
   "id": "2d51d02b-eb33-4a3a-b5eb-45756472d38d",
   "metadata": {},
   "source": [
    "47. Check if a string contains any special characters."
   ]
  },
  {
   "cell_type": "code",
   "execution_count": 3,
   "id": "bb562693-7f37-4b99-87aa-935e41eed17c",
   "metadata": {},
   "outputs": [
    {
     "name": "stdin",
     "output_type": "stream",
     "text": [
      "Enter a string:  My name I$ Shweta\n"
     ]
    },
    {
     "name": "stdout",
     "output_type": "stream",
     "text": [
      "The string contains special characters.\n"
     ]
    }
   ],
   "source": [
    "import re\n",
    "\n",
    "def contains_special_characters(input_string):\n",
    "    # Define a regular expression pattern to match non-alphanumeric characters\n",
    "    pattern = r'[^a-zA-Z0-9\\s]'\n",
    "    \n",
    "    # Use re.search() to find the first match\n",
    "    match = re.search(pattern, input_string)\n",
    "    \n",
    "    # If a match is found, it contains special characters; otherwise, it doesn't\n",
    "    return match is not None\n",
    "\n",
    "user_input = input(\"Enter a string: \")\n",
    "\n",
    "if contains_special_characters(user_input):\n",
    "    print(\"The string contains special characters.\")\n",
    "else:\n",
    "    print(\"The string does not contain special characters.\")"
   ]
  },
  {
   "cell_type": "markdown",
   "id": "b416e554-c1af-4820-8202-e4cb1d5f2a63",
   "metadata": {},
   "source": [
    "48. Remove the nth word from a string."
   ]
  },
  {
   "cell_type": "code",
   "execution_count": 5,
   "id": "a6e1210b-db01-4d2f-814f-8dc336033046",
   "metadata": {},
   "outputs": [
    {
     "name": "stdin",
     "output_type": "stream",
     "text": [
      "Enter a string:  my name is shweta\n"
     ]
    },
    {
     "name": "stdout",
     "output_type": "stream",
     "text": [
      "The string does not contain special characters.\n"
     ]
    }
   ],
   "source": [
    "import re\n",
    "\n",
    "def contains_special_characters(input_string):\n",
    "    # Define a regular expression pattern to match non-alphanumeric characters\n",
    "    pattern = r'[^a-zA-Z0-9\\s]'\n",
    "    \n",
    "    # Use re.search() to find the first match\n",
    "    match = re.search(pattern, input_string)\n",
    "    \n",
    "    # If a match is found, it contains special characters; otherwise, it doesn't\n",
    "    return match is not None\n",
    "\n",
    "user_input = input(\"Enter a string: \")\n",
    "\n",
    "if contains_special_characters(user_input):\n",
    "    print(\"The string contains special characters.\")\n",
    "else:\n",
    "    print(\"The string does not contain special characters.\")"
   ]
  },
  {
   "cell_type": "markdown",
   "id": "1afadba7-9a65-4ce4-8102-19aed43b9189",
   "metadata": {},
   "source": [
    "49. Insert a word at the nth position in a string."
   ]
  },
  {
   "cell_type": "code",
   "execution_count": 7,
   "id": "07e2a4e5-905c-4615-96fb-edd9ae6396bd",
   "metadata": {},
   "outputs": [
    {
     "name": "stdin",
     "output_type": "stream",
     "text": [
      "Enter a string:  Shweta\n",
      "Enter the word to insert:  kadganche\n",
      "Enter the position to insert the word (1-based indexing):  2\n"
     ]
    },
    {
     "name": "stdout",
     "output_type": "stream",
     "text": [
      "String after inserting the word: Shweta kadganche\n"
     ]
    }
   ],
   "source": [
    "def insert_word_at_nth_position(input_string, word_to_insert, n):\n",
    "    words = input_string.split()\n",
    "    \n",
    "    if n >= 1 and n <= len(words) + 1:\n",
    "        words.insert(n - 1, word_to_insert)  # Subtract 1 to account for 0-based indexing\n",
    "        return ' '.join(words)\n",
    "    else:\n",
    "        return input_string\n",
    "\n",
    "user_input = input(\"Enter a string: \")\n",
    "word_to_insert = input(\"Enter the word to insert: \")\n",
    "n = int(input(\"Enter the position to insert the word (1-based indexing): \"))\n",
    "\n",
    "result = insert_word_at_nth_position(user_input, word_to_insert, n)\n",
    "\n",
    "print(\"String after inserting the word:\", result)"
   ]
  },
  {
   "cell_type": "markdown",
   "id": "9d7283e3-2762-4ae0-b0bb-e326a15051e5",
   "metadata": {},
   "source": [
    "50. Convert a CSV string to a list of lists."
   ]
  },
  {
   "cell_type": "code",
   "execution_count": 8,
   "id": "a701a6bf-40bb-43e8-9bbb-9322f4a43380",
   "metadata": {},
   "outputs": [
    {
     "name": "stdout",
     "output_type": "stream",
     "text": [
      "['Name', 'Age', 'Location']\n",
      "['Alice', '30', 'New York']\n",
      "['Bob', '25', 'San Francisco']\n"
     ]
    }
   ],
   "source": [
    "import csv\n",
    "from io import StringIO\n",
    "\n",
    "def csv_string_to_list(csv_string):\n",
    "    # Create a CSV reader object using StringIO to read from the string\n",
    "    csv_reader = csv.reader(StringIO(csv_string))\n",
    "    \n",
    "    # Convert the CSV data into a list of lists\n",
    "    data = [row for row in csv_reader]\n",
    "    \n",
    "    return data\n",
    "\n",
    "# Example CSV string\n",
    "csv_string = \"Name,Age,Location\\nAlice,30,New York\\nBob,25,San Francisco\"\n",
    "\n",
    "# Convert the CSV string to a list of lists\n",
    "csv_data = csv_string_to_list(csv_string)\n",
    "\n",
    "# Print the result\n",
    "for row in csv_data:\n",
    "    print(row)"
   ]
  },
  {
   "cell_type": "markdown",
   "id": "715191cf-02e0-4c08-a8fb-99f7d0c6a99c",
   "metadata": {},
   "source": [
    "List Based Practice Problem :\n",
    "\n",
    "1. Create a list with integers from 1 to 10."
   ]
  },
  {
   "cell_type": "code",
   "execution_count": 9,
   "id": "35a8a8bc-ae43-4342-8a3a-878d475467ae",
   "metadata": {},
   "outputs": [
    {
     "name": "stdout",
     "output_type": "stream",
     "text": [
      "[1, 2, 3, 4, 5, 6, 7, 8, 9, 10]\n"
     ]
    }
   ],
   "source": [
    "my_list = [i for i in range(1,11)] # or my_list = list(range(1,11))\n",
    "\n",
    "print(my_list)"
   ]
  },
  {
   "cell_type": "markdown",
   "id": "787c0b5d-b6e5-403c-996f-26e313d832d5",
   "metadata": {},
   "source": [
    "2. Find the length of a list without using the `len()` function."
   ]
  },
  {
   "cell_type": "code",
   "execution_count": 11,
   "id": "1b41662b-9ff2-4043-8bc9-66a621547fbf",
   "metadata": {},
   "outputs": [
    {
     "name": "stdin",
     "output_type": "stream",
     "text": [
      " shweta\n"
     ]
    },
    {
     "name": "stdout",
     "output_type": "stream",
     "text": [
      "6\n"
     ]
    }
   ],
   "source": [
    "#take user input\n",
    "string = input()\n",
    "count = 0\n",
    "\n",
    "for i in string:\n",
    "    count+=1\n",
    "print(count)"
   ]
  },
  {
   "cell_type": "markdown",
   "id": "f77434a6-fd57-4434-b3fb-1d91285718d6",
   "metadata": {},
   "source": [
    "3. Append an element to the end of a list."
   ]
  },
  {
   "cell_type": "code",
   "execution_count": 12,
   "id": "3a98d73f-2d5e-4234-b235-61f2854d51c4",
   "metadata": {},
   "outputs": [
    {
     "name": "stdout",
     "output_type": "stream",
     "text": [
      "[1, 2, 3, 4, 5, 6]\n"
     ]
    }
   ],
   "source": [
    "# Create a list\n",
    "my_list = [1, 2, 3, 4, 5]\n",
    "\n",
    "# Append an element to the end of the list\n",
    "new_element = 6\n",
    "my_list.append(new_element)\n",
    "\n",
    "# Print the updated list\n",
    "print(my_list)"
   ]
  },
  {
   "cell_type": "markdown",
   "id": "f47923b0-5ad3-440f-8a6f-cc47d22b7102",
   "metadata": {},
   "source": [
    "4. Insert an element at a specific index in a list."
   ]
  },
  {
   "cell_type": "code",
   "execution_count": 17,
   "id": "b8d173ff-db7f-476d-a754-1e7676d7aced",
   "metadata": {},
   "outputs": [
    {
     "name": "stdout",
     "output_type": "stream",
     "text": [
      "[1, 2, 3, 4, 5]\n"
     ]
    }
   ],
   "source": [
    "# Create a list\n",
    "my_list = [1, 2, 4, 5]\n",
    "\n",
    "# Insert an element at a specific index\n",
    "new_element = 3\n",
    "index_to_insert = 2  # Index where you want to insert the element\n",
    "\n",
    "my_list.insert(index_to_insert, new_element)\n",
    "\n",
    "# Print the updated list\n",
    "print(my_list)"
   ]
  },
  {
   "cell_type": "markdown",
   "id": "bbf2ff89-659d-418c-a6f0-c4dec72445ed",
   "metadata": {},
   "source": [
    "5. Remove an element from a list by its value."
   ]
  },
  {
   "cell_type": "code",
   "execution_count": 18,
   "id": "625468f5-b6c9-44db-8c2e-3ae554c28236",
   "metadata": {},
   "outputs": [
    {
     "name": "stdout",
     "output_type": "stream",
     "text": [
      "[1, 2, 4, 5]\n"
     ]
    }
   ],
   "source": [
    "# Create a list\n",
    "my_list = [1, 2, 3, 4, 5]\n",
    "\n",
    "# Remove an element by its value\n",
    "value_to_remove = 3\n",
    "\n",
    "if value_to_remove in my_list:\n",
    "    my_list.remove(value_to_remove)\n",
    "else:\n",
    "    print(f\"{value_to_remove} is not in the list.\")\n",
    "\n",
    "# Print the updated list\n",
    "print(my_list)"
   ]
  },
  {
   "cell_type": "markdown",
   "id": "0f8315dc-d308-4326-b947-afa46494cd13",
   "metadata": {},
   "source": [
    "6. Remove an element from a list by its index."
   ]
  },
  {
   "cell_type": "code",
   "execution_count": 20,
   "id": "b8c12600-8ec9-4fe5-9e54-93e2e98c3c34",
   "metadata": {},
   "outputs": [
    {
     "name": "stdout",
     "output_type": "stream",
     "text": [
      "[1, 2, 4, 5]\n"
     ]
    }
   ],
   "source": [
    "# Create a list\n",
    "my_list = [1, 2, 3, 4, 5]\n",
    "\n",
    "# Remove an element by its index\n",
    "index_to_remove = 2  # Index of the element you want to remove\n",
    "\n",
    "if 0 <= index_to_remove < len(my_list):\n",
    "    my_list.pop(index_to_remove)\n",
    "else:\n",
    "    print(\"Index is out of range.\")\n",
    "\n",
    "# Print the updated list\n",
    "print(my_list)"
   ]
  },
  {
   "cell_type": "markdown",
   "id": "a3f5ed41-d798-48de-8592-a4c112629cba",
   "metadata": {},
   "source": [
    "7. Check if an element exists in a list."
   ]
  },
  {
   "cell_type": "code",
   "execution_count": 2,
   "id": "d6783326-836e-4a97-bdf5-8a07c1a3977c",
   "metadata": {},
   "outputs": [
    {
     "name": "stdin",
     "output_type": "stream",
     "text": [
      " 6\n"
     ]
    },
    {
     "name": "stdout",
     "output_type": "stream",
     "text": [
      "6 does not exist in the list.\n"
     ]
    }
   ],
   "source": [
    "# Create a list\n",
    "my_list = [1, 2, 3, 4, 5]\n",
    "\n",
    "# Element to check\n",
    "element_to_check = input()\n",
    "\n",
    "if element_to_check in my_list:\n",
    "    print(f\"{element_to_check} exists in the list.\")\n",
    "else:\n",
    "    print(f\"{element_to_check} does not exist in the list.\")"
   ]
  },
  {
   "cell_type": "markdown",
   "id": "c2513f88-f3ed-4ad2-be14-8387023bd765",
   "metadata": {},
   "source": [
    "8. Find the index of the first occurrence of an element in a list."
   ]
  },
  {
   "cell_type": "code",
   "execution_count": 4,
   "id": "e68ef963-65c3-4e9a-bb67-c1822de170b2",
   "metadata": {},
   "outputs": [
    {
     "name": "stdin",
     "output_type": "stream",
     "text": [
      " 8\n"
     ]
    },
    {
     "name": "stdout",
     "output_type": "stream",
     "text": [
      "8 is not in the list.\n"
     ]
    }
   ],
   "source": [
    "# Create a list\n",
    "my_list = [1, 2, 3, 4, 5, 3]\n",
    "\n",
    "# Element to find\n",
    "element_to_find = input()\n",
    "\n",
    "if element_to_find in my_list:\n",
    "    index = my_list.index(element_to_find)\n",
    "    print(f\"The first occurrence of {element_to_find} is at index {index}.\")\n",
    "else:\n",
    "    print(f\"{element_to_find} is not in the list.\")"
   ]
  },
  {
   "cell_type": "markdown",
   "id": "7ee8b2da-1a58-472d-86d0-68ca62e3a74f",
   "metadata": {},
   "source": [
    "9. Count the occurrences of an element in a list."
   ]
  },
  {
   "cell_type": "code",
   "execution_count": 7,
   "id": "8744b997-ed88-4474-a0e2-92033f6c5c39",
   "metadata": {},
   "outputs": [
    {
     "name": "stdout",
     "output_type": "stream",
     "text": [
      "The element 3 appears 3 times in the list.\n"
     ]
    }
   ],
   "source": [
    "# Create a list\n",
    "my_list = [1, 2, 3, 4, 5, 3, 3]\n",
    "\n",
    "# Element to count\n",
    "element_to_count = 3\n",
    "\n",
    "count = my_list.count(element_to_count)\n",
    "\n",
    "print(f\"The element {element_to_count} appears {count} times in the list.\")"
   ]
  },
  {
   "cell_type": "markdown",
   "id": "8783956b-abe4-4958-ab1c-8fa571c063aa",
   "metadata": {},
   "source": [
    "10. Reverse the order of elements in a list."
   ]
  },
  {
   "cell_type": "code",
   "execution_count": 8,
   "id": "64bbfc95-3743-4239-b7b2-661e465649b7",
   "metadata": {},
   "outputs": [
    {
     "name": "stdout",
     "output_type": "stream",
     "text": [
      "[5, 4, 3, 2, 1]\n"
     ]
    }
   ],
   "source": [
    "# Create a list\n",
    "my_list = [1, 2, 3, 4, 5]\n",
    "\n",
    "# Reverse the list\n",
    "reversed_list = my_list[::-1]\n",
    "\n",
    "# Print the reversed list\n",
    "print(reversed_list)"
   ]
  },
  {
   "cell_type": "markdown",
   "id": "418e2450-4a7b-4c18-8deb-6ee46337b101",
   "metadata": {},
   "source": [
    "11. Sort a list in ascending order."
   ]
  },
  {
   "cell_type": "code",
   "execution_count": 9,
   "id": "b45fe3a5-abff-4b3f-a8db-bddb0e39c107",
   "metadata": {},
   "outputs": [
    {
     "name": "stdout",
     "output_type": "stream",
     "text": [
      "[1, 2, 3, 5, 8]\n"
     ]
    }
   ],
   "source": [
    "# Create a list\n",
    "my_list = [5, 2, 8, 1, 3]\n",
    "\n",
    "# Sort the list in ascending order (in-place)\n",
    "my_list.sort()\n",
    "\n",
    "# Print the sorted list\n",
    "print(my_list)"
   ]
  },
  {
   "cell_type": "markdown",
   "id": "0a78d67b-6327-4779-bf56-4e20aaea4dee",
   "metadata": {},
   "source": [
    "12. Sort a list in descending order."
   ]
  },
  {
   "cell_type": "code",
   "execution_count": 11,
   "id": "5bb8041d-4129-4b13-8497-ed9d8c5005bc",
   "metadata": {},
   "outputs": [
    {
     "name": "stdout",
     "output_type": "stream",
     "text": [
      "[8, 5, 3, 2, 1]\n"
     ]
    }
   ],
   "source": [
    "# Create a list\n",
    "my_list = [5, 2, 8, 1, 3]\n",
    "\n",
    "# Create a new sorted list in descending order\n",
    "sorted_list = sorted(my_list, reverse=True)\n",
    "\n",
    "# Print the sorted list\n",
    "print(sorted_list)"
   ]
  },
  {
   "cell_type": "markdown",
   "id": "e93b78ee-798e-428b-8b13-2ea10b122c26",
   "metadata": {},
   "source": [
    "13. Create a list of even numbers from 1 to 20."
   ]
  },
  {
   "cell_type": "code",
   "execution_count": 15,
   "id": "f31b3a29-78ae-49ab-9ce6-f0c99effe32d",
   "metadata": {},
   "outputs": [
    {
     "name": "stdout",
     "output_type": "stream",
     "text": [
      "[2, 4, 6, 8, 10, 12, 14, 16, 18, 20]\n"
     ]
    }
   ],
   "source": [
    "# Create a list of even numbers from 1 to 20\n",
    "even_numbers = [x for x in range(1, 21) if x % 2 == 0]\n",
    "\n",
    "# Print the list of even numbers\n",
    "print(even_numbers)"
   ]
  },
  {
   "cell_type": "markdown",
   "id": "f3c75fc9-46c2-47a5-b2eb-d6619d18f2b1",
   "metadata": {},
   "source": [
    "14. Create a list of odd numbers from 1 to 20."
   ]
  },
  {
   "cell_type": "code",
   "execution_count": 16,
   "id": "c7c906a3-b93e-4457-b22b-0f0d759bb5ca",
   "metadata": {},
   "outputs": [
    {
     "name": "stdout",
     "output_type": "stream",
     "text": [
      "[1, 3, 5, 7, 9, 11, 13, 15, 17, 19]\n"
     ]
    }
   ],
   "source": [
    "# Create a list of even numbers from 1 to 20\n",
    "even_numbers = [x for x in range(1, 21) if x % 2 == 1]\n",
    "\n",
    "# Print the list of even numbers\n",
    "print(even_numbers)"
   ]
  },
  {
   "cell_type": "markdown",
   "id": "b6111b21-af32-46e8-805b-4c14748dc2e0",
   "metadata": {},
   "source": [
    "15. Find the sum of all elements in a list."
   ]
  },
  {
   "cell_type": "code",
   "execution_count": 18,
   "id": "1cec775f-cce7-4b97-92c4-0478a161e010",
   "metadata": {},
   "outputs": [
    {
     "name": "stdout",
     "output_type": "stream",
     "text": [
      "The sum of all elements in the list is: 15\n"
     ]
    }
   ],
   "source": [
    "# Create a list\n",
    "my_list = [1, 2, 3, 4, 5]\n",
    "\n",
    "# Find the sum of all elements in the list\n",
    "total_sum = sum(my_list)\n",
    "\n",
    "# Print the sum\n",
    "print(\"The sum of all elements in the list is:\", total_sum)"
   ]
  },
  {
   "cell_type": "markdown",
   "id": "127a521c-a556-471b-9027-373b1d50c8e4",
   "metadata": {},
   "source": [
    "16. Find the maximum value in a list."
   ]
  },
  {
   "cell_type": "code",
   "execution_count": 21,
   "id": "13133746-1729-496d-9b33-5f03d415352f",
   "metadata": {},
   "outputs": [
    {
     "name": "stdout",
     "output_type": "stream",
     "text": [
      "The maximum value in the list is: 67\n"
     ]
    }
   ],
   "source": [
    "# Create a list\n",
    "my_list = [12, 45, 67, 23, 9, 56]\n",
    "\n",
    "# Find the maximum value in the list\n",
    "max_value = max(my_list)\n",
    "\n",
    "# Print the maximum value\n",
    "print(\"The maximum value in the list is:\", max_value)"
   ]
  },
  {
   "cell_type": "markdown",
   "id": "7652e29c-17f8-4997-a055-9f3c304c4acc",
   "metadata": {},
   "source": [
    "17. Find the minimum value in a list."
   ]
  },
  {
   "cell_type": "code",
   "execution_count": 22,
   "id": "1265e0e6-97b7-400e-9f5e-5367abd1a0b9",
   "metadata": {},
   "outputs": [
    {
     "name": "stdout",
     "output_type": "stream",
     "text": [
      "The minimum value in the list is: 9\n"
     ]
    }
   ],
   "source": [
    "# Create a list\n",
    "my_list = [12, 45, 67, 23, 9, 56]\n",
    "\n",
    "# Find the maximum value in the list\n",
    "min_value = min(my_list)\n",
    "\n",
    "# Print the maximum value\n",
    "print(\"The minimum value in the list is:\", min_value)"
   ]
  },
  {
   "cell_type": "markdown",
   "id": "fd52b21e-f5a8-4de8-b99b-e6c5a59f2ed3",
   "metadata": {},
   "source": [
    "18. Create a list of squares of numbers from 1 to 10."
   ]
  },
  {
   "cell_type": "code",
   "execution_count": 23,
   "id": "9dce78e2-880c-419f-82a7-6320ee0bbd6d",
   "metadata": {},
   "outputs": [
    {
     "name": "stdout",
     "output_type": "stream",
     "text": [
      "[1, 4, 9, 16, 25, 36, 49, 64, 81, 100]\n"
     ]
    }
   ],
   "source": [
    "# Create a list of squares of numbers from 1 to 10\n",
    "squares = [x ** 2 for x in range(1, 11)]\n",
    "\n",
    "# Print the list of squares\n",
    "print(squares)"
   ]
  },
  {
   "cell_type": "markdown",
   "id": "deaec728-55d9-445d-86e2-17f964f74354",
   "metadata": {},
   "source": [
    "19. Create a list of random numbers."
   ]
  },
  {
   "cell_type": "code",
   "execution_count": 24,
   "id": "89697b96-1e2c-4eac-96c0-be32eaae7a6b",
   "metadata": {},
   "outputs": [
    {
     "name": "stdout",
     "output_type": "stream",
     "text": [
      "[46, 45, 85, 55, 68, 86, 42, 39, 30, 46]\n"
     ]
    }
   ],
   "source": [
    "import random #The random module, which provides functions for generating random numbers.\n",
    "\n",
    "# Create a list of random numbers\n",
    "random_numbers = [random.randint(1, 100) for _ in range(10)]\n",
    "\n",
    "# Print the list of random numbers\n",
    "print(random_numbers)"
   ]
  },
  {
   "cell_type": "markdown",
   "id": "2661a441-7c55-4d12-8616-bafcec5c7aee",
   "metadata": {},
   "source": [
    "20. Remove duplicates from a list."
   ]
  },
  {
   "cell_type": "code",
   "execution_count": 25,
   "id": "06beeadd-9152-411d-bcaa-7732df4a8d0c",
   "metadata": {},
   "outputs": [
    {
     "name": "stdout",
     "output_type": "stream",
     "text": [
      "[1, 2, 3, 4, 5]\n"
     ]
    }
   ],
   "source": [
    "# Create a list with duplicates\n",
    "my_list = [1, 2, 2, 3, 4, 4, 5]\n",
    "\n",
    "# Remove duplicates by converting the list to a set and back to a list\n",
    "unique_list = list(set(my_list))\n",
    "\n",
    "# Print the list with duplicates removed\n",
    "print(unique_list)"
   ]
  },
  {
   "cell_type": "markdown",
   "id": "09559d79-f84a-4f5c-be0e-ed75b02b6c5a",
   "metadata": {},
   "source": [
    "21. Find the common elements between two lists."
   ]
  },
  {
   "cell_type": "code",
   "execution_count": 28,
   "id": "e0265f4e-1216-4485-8194-844ebc46726d",
   "metadata": {},
   "outputs": [
    {
     "name": "stdout",
     "output_type": "stream",
     "text": [
      "[3, 4, 5]\n"
     ]
    }
   ],
   "source": [
    "# Create two lists\n",
    "list1 = [1, 2, 3, 4, 5]\n",
    "list2 = [3, 4, 5, 6, 7]\n",
    "\n",
    "# Find common elements using sets\n",
    "set1 = set(list1)\n",
    "set2 = set(list2)\n",
    "common_elements = list(set1.intersection(set2)) #find the common elements and convert the result back to a list.\n",
    "\n",
    "# Print the common elements\n",
    "print(common_elements)"
   ]
  },
  {
   "cell_type": "markdown",
   "id": "abb87ed0-e26e-4236-af1a-a6f60aa2bd82",
   "metadata": {},
   "source": [
    "22. Find the difference between two lists."
   ]
  },
  {
   "cell_type": "code",
   "execution_count": 29,
   "id": "77ee8c79-8da0-4000-80d0-012cbfd16f52",
   "metadata": {},
   "outputs": [
    {
     "name": "stdout",
     "output_type": "stream",
     "text": [
      "[1, 2]\n"
     ]
    }
   ],
   "source": [
    "# Create two lists\n",
    "list1 = [1, 2, 3, 4, 5]\n",
    "list2 = [3, 4, 5, 6, 7]\n",
    "\n",
    "# Find the difference using sets\n",
    "set1 = set(list1)\n",
    "set2 = set(list2)\n",
    "difference = list(set1 - set2)\n",
    "\n",
    "# Print the difference\n",
    "print(difference)"
   ]
  },
  {
   "cell_type": "markdown",
   "id": "d4919163-59da-4799-9d94-77daeda6b72a",
   "metadata": {},
   "source": [
    "23. Merge two lists."
   ]
  },
  {
   "cell_type": "code",
   "execution_count": 30,
   "id": "b1158193-b835-4c5a-a890-e76f42624f2e",
   "metadata": {},
   "outputs": [
    {
     "name": "stdout",
     "output_type": "stream",
     "text": [
      "[1, 2, 3, 4, 5, 6]\n"
     ]
    }
   ],
   "source": [
    "# Create two lists\n",
    "list1 = [1, 2, 3]\n",
    "list2 = [4, 5, 6]\n",
    "\n",
    "# Merge the two lists using the + operator\n",
    "merged_list = list1 + list2\n",
    "\n",
    "# Print the merged list\n",
    "print(merged_list)"
   ]
  },
  {
   "cell_type": "markdown",
   "id": "a79398ce-0150-41e5-b1bf-ceb7a3a56f01",
   "metadata": {},
   "source": [
    "24. Multiply all elements in a list by 2."
   ]
  },
  {
   "cell_type": "code",
   "execution_count": 31,
   "id": "badd39d0-25ee-4531-b2b0-30720a299d7c",
   "metadata": {},
   "outputs": [
    {
     "name": "stdout",
     "output_type": "stream",
     "text": [
      "[2, 4, 6, 8, 10]\n"
     ]
    }
   ],
   "source": [
    "# Create a list\n",
    "my_list = [1, 2, 3, 4, 5]\n",
    "\n",
    "# Multiply all elements in the list by 2 using list comprehension\n",
    "my_list = [x * 2 for x in my_list]\n",
    "\n",
    "# Print the modified list\n",
    "print(my_list)"
   ]
  },
  {
   "cell_type": "markdown",
   "id": "d50e6f6d-f703-4bd2-bafc-5810f8c138c1",
   "metadata": {},
   "source": [
    "25. Filter out all even numbers from a list."
   ]
  },
  {
   "cell_type": "code",
   "execution_count": 32,
   "id": "2083261c-a701-4e94-847a-13096e2c3607",
   "metadata": {},
   "outputs": [
    {
     "name": "stdout",
     "output_type": "stream",
     "text": [
      "[1, 3, 5, 7, 9]\n"
     ]
    }
   ],
   "source": [
    "# Create a list\n",
    "my_list = [1, 2, 3, 4, 5, 6, 7, 8, 9, 10]\n",
    "\n",
    "# Filter out even numbers using list comprehension\n",
    "filtered_list = [x for x in my_list if x % 2 != 0]\n",
    "\n",
    "# Print the filtered list\n",
    "print(filtered_list)"
   ]
  },
  {
   "cell_type": "markdown",
   "id": "52884a48-044d-45c8-837a-907720424aaf",
   "metadata": {},
   "source": [
    "26. Convert a list of strings to a list of integers."
   ]
  },
  {
   "cell_type": "code",
   "execution_count": 33,
   "id": "bc76a4e9-b57f-49d0-9d5b-56fcc1647f8e",
   "metadata": {},
   "outputs": [
    {
     "name": "stdout",
     "output_type": "stream",
     "text": [
      "[1, 2, 3, 4, 5]\n"
     ]
    }
   ],
   "source": [
    "# Create a list of strings\n",
    "string_list = [\"1\", \"2\", \"3\", \"4\", \"5\"]\n",
    "\n",
    "# Convert the strings to integers using map() and list()\n",
    "integer_list = list(map(int, string_list))\n",
    "\n",
    "# Print the list of integers\n",
    "print(integer_list)"
   ]
  },
  {
   "cell_type": "markdown",
   "id": "b25e4465-6a87-4522-b123-2eea8ba9f18a",
   "metadata": {},
   "source": [
    "27. Convert a list of integers to a list of strings."
   ]
  },
  {
   "cell_type": "code",
   "execution_count": 34,
   "id": "13b281b4-16ae-42e8-ba54-d02e98628284",
   "metadata": {},
   "outputs": [
    {
     "name": "stdout",
     "output_type": "stream",
     "text": [
      "['1', '2', '3', '4', '5']\n"
     ]
    }
   ],
   "source": [
    "# Create a list of integers\n",
    "integer_list = [1, 2, 3, 4, 5]\n",
    "\n",
    "# Convert the integers to strings using list comprehension\n",
    "string_list = [str(integer) for integer in integer_list]\n",
    "\n",
    "# Print the list of strings\n",
    "print(string_list)"
   ]
  },
  {
   "cell_type": "markdown",
   "id": "47e7effe-1820-42f7-a070-7fbaef0322c1",
   "metadata": {},
   "source": [
    "28. Flatten a nested list."
   ]
  },
  {
   "cell_type": "code",
   "execution_count": 35,
   "id": "62b115e2-39b4-4d95-903b-6ad04a398c1c",
   "metadata": {},
   "outputs": [
    {
     "name": "stdout",
     "output_type": "stream",
     "text": [
      "[1, 2, 3, 4, 5, 6, 7, 8]\n"
     ]
    }
   ],
   "source": [
    "# Define a function to flatten a nested list\n",
    "def flatten_list(nested_list):\n",
    "    flattened = []\n",
    "    for item in nested_list:\n",
    "        if isinstance(item, list):\n",
    "            flattened.extend(flatten_list(item))\n",
    "        else:\n",
    "            flattened.append(item)\n",
    "    return flattened\n",
    "\n",
    "# Create a nested list\n",
    "nested_list = [1, [2, [3, 4], 5], 6, [7, 8]]\n",
    "\n",
    "# Flatten the nested list\n",
    "flattened_list = flatten_list(nested_list)\n",
    "\n",
    "# Print the flattened list\n",
    "print(flattened_list)"
   ]
  },
  {
   "cell_type": "markdown",
   "id": "1f399170-cd20-4276-b44a-ed39981f492d",
   "metadata": {},
   "source": [
    "29. Create a list of the first 10 Fibonacci numbers."
   ]
  },
  {
   "cell_type": "code",
   "execution_count": 36,
   "id": "c63a9bfd-50c5-418e-ac9a-41117d1ccd38",
   "metadata": {},
   "outputs": [
    {
     "name": "stdout",
     "output_type": "stream",
     "text": [
      "34\n"
     ]
    }
   ],
   "source": [
    "# Function for nth Fibonacci number\n",
    "\n",
    "def Fibonacci(n):\n",
    "\tif n<= 0:\n",
    "\t\tprint(\"Incorrect input\")\n",
    "\t# First Fibonacci number is 0\n",
    "\telif n == 1:\n",
    "\t\treturn 0\n",
    "\t# Second Fibonacci number is 1\n",
    "\telif n == 2:\n",
    "\t\treturn 1\n",
    "\telse:\n",
    "\t\treturn Fibonacci(n-1)+Fibonacci(n-2)\n",
    "\n",
    "# Driver Program\n",
    "\n",
    "print(Fibonacci(10))"
   ]
  },
  {
   "cell_type": "markdown",
   "id": "3caa7943-2a65-493b-8d9a-20636ceb3788",
   "metadata": {},
   "source": [
    "30. Check if a list is sorted."
   ]
  },
  {
   "cell_type": "code",
   "execution_count": 38,
   "id": "155b0945-8773-4456-b993-b234afe28668",
   "metadata": {},
   "outputs": [
    {
     "name": "stdout",
     "output_type": "stream",
     "text": [
      "The list is sorted.\n"
     ]
    }
   ],
   "source": [
    "def is_sorted(lst):\n",
    "    n = len(lst)\n",
    "    for i in range(n - 1):\n",
    "        if lst[i] > lst[i + 1]:\n",
    "            return False\n",
    "    return True\n",
    "\n",
    "# Example usage:\n",
    "my_list = [1, 2, 3, 4, 5]\n",
    "if is_sorted(my_list):\n",
    "    print(\"The list is sorted.\")\n",
    "else:\n",
    "    print(\"The list is not sorted.\")"
   ]
  },
  {
   "cell_type": "markdown",
   "id": "a48666c8-b421-4465-9a37-00a61a39876f",
   "metadata": {},
   "source": [
    "31. Rotate a list to the left by `n` positions."
   ]
  },
  {
   "cell_type": "code",
   "execution_count": 39,
   "id": "1f954750-237b-45db-9177-bbc5f2760fd2",
   "metadata": {},
   "outputs": [
    {
     "name": "stdout",
     "output_type": "stream",
     "text": [
      "[3, 4, 5, 1, 2]\n"
     ]
    }
   ],
   "source": [
    "def rotate_left(lst, n):\n",
    "    if len(lst) == 0:\n",
    "        return lst\n",
    "    \n",
    "    n %= len(lst)  # Ensure n is within the range of the list length\n",
    "    return lst[n:] + lst[:n]\n",
    "\n",
    "# Example usage:\n",
    "my_list = [1, 2, 3, 4, 5]\n",
    "n = 2\n",
    "rotated_list = rotate_left(my_list, n)\n",
    "print(rotated_list)"
   ]
  },
  {
   "cell_type": "markdown",
   "id": "c2f8cf43-a3b4-4aa1-8cfb-995551362d52",
   "metadata": {},
   "source": [
    "32. Rotate a list to the right by `n` positions."
   ]
  },
  {
   "cell_type": "code",
   "execution_count": 40,
   "id": "30169b19-3b6a-40b4-8a70-9fdae41cc44c",
   "metadata": {},
   "outputs": [
    {
     "name": "stdout",
     "output_type": "stream",
     "text": [
      "[4, 5, 1, 2, 3]\n"
     ]
    }
   ],
   "source": [
    "def rotate_right(lst, n):\n",
    "    if len(lst) == 0:\n",
    "        return lst\n",
    "    \n",
    "    n %= len(lst)  # Ensure n is within the range of the list length\n",
    "    return lst[-n:] + lst[:-n]\n",
    "\n",
    "# Example usage:\n",
    "my_list = [1, 2, 3, 4, 5]\n",
    "n = 2\n",
    "rotated_list = rotate_right(my_list, n)\n",
    "print(rotated_list)"
   ]
  },
  {
   "cell_type": "markdown",
   "id": "08c8afa2-9f45-486d-a11e-11735f9e0230",
   "metadata": {},
   "source": [
    "33. Create a list of prime numbers up to 50."
   ]
  },
  {
   "cell_type": "code",
   "execution_count": null,
   "id": "6664bbd2-6621-48dd-ad3b-de63a5fa2de8",
   "metadata": {},
   "outputs": [],
   "source": [
    "def is_prime(num):\n",
    "    if num <= 1:\n",
    "        return False\n",
    "    if num == 2:\n",
    "        return True\n",
    "    if num % 2 == 0:\n",
    "        return False\n",
    "    for i in range(3, int(num**0.5) + 1, 2):\n",
    "        if num % i == 0:\n",
    "            return False\n",
    "    return True\n",
    "\n",
    "# Generate a list of prime numbers up to 50\n",
    "prime_numbers = [num for num in range(2, 51) if is_prime(num)]\n",
    "\n",
    "# Print the list of prime numbers\n",
    "print(prime_numbers)"
   ]
  },
  {
   "cell_type": "markdown",
   "id": "067a12b3-9d53-4b7d-9bc1-4d2f3ee1d886",
   "metadata": {},
   "source": [
    "34. Split a list into chunks of size `n`."
   ]
  },
  {
   "cell_type": "code",
   "execution_count": 43,
   "id": "4a8ac9e0-dbfa-49d5-8b33-d4d0473bf746",
   "metadata": {},
   "outputs": [
    {
     "name": "stdout",
     "output_type": "stream",
     "text": [
      "[[1, 2, 3], [4, 5, 6], [7, 8, 9]]\n"
     ]
    }
   ],
   "source": [
    "def split_list_into_chunks(lst, n):\n",
    "    for i in range(0, len(lst), n):\n",
    "        yield lst[i:i + n]\n",
    "\n",
    "# Example usage:\n",
    "my_list = [1, 2, 3, 4, 5, 6, 7, 8, 9]\n",
    "chunk_size = 3\n",
    "\n",
    "chunked_list = list(split_list_into_chunks(my_list, chunk_size))\n",
    "\n",
    "print(chunked_list)"
   ]
  },
  {
   "cell_type": "markdown",
   "id": "ab608829-ec8a-4345-bb23-e8443682aa14",
   "metadata": {},
   "source": [
    "35. Find the second largest number in a list."
   ]
  },
  {
   "cell_type": "code",
   "execution_count": 44,
   "id": "5a7f299d-2c56-4eb7-9a87-cf5bfc8b1efa",
   "metadata": {},
   "outputs": [
    {
     "name": "stdout",
     "output_type": "stream",
     "text": [
      "The second largest number is: 15\n"
     ]
    }
   ],
   "source": [
    "def second_largest(lst):\n",
    "    if len(lst) < 2:\n",
    "        return \"List has less than 2 elements\"\n",
    "\n",
    "    sorted_list = sorted(lst, reverse=True)\n",
    "    return sorted_list[1]\n",
    "\n",
    "# Example usage:\n",
    "my_list = [10, 5, 8, 20, 2, 15]\n",
    "result = second_largest(my_list)\n",
    "print(\"The second largest number is:\", result)"
   ]
  },
  {
   "cell_type": "markdown",
   "id": "028ceb30-eb69-4c90-8f1e-8e5a4f130b8a",
   "metadata": {},
   "source": [
    "36. Replace every element in a list with its square."
   ]
  },
  {
   "cell_type": "code",
   "execution_count": 45,
   "id": "fb572035-d9ec-49a4-b901-c8b9c109c5f5",
   "metadata": {},
   "outputs": [
    {
     "name": "stdout",
     "output_type": "stream",
     "text": [
      "[1, 4, 9, 16, 25]\n"
     ]
    }
   ],
   "source": [
    "def square_elements(lst):\n",
    "    return [x ** 2 for x in lst]\n",
    "\n",
    "# Example usage:\n",
    "my_list = [1, 2, 3, 4, 5]\n",
    "squared_list = square_elements(my_list)\n",
    "print(squared_list)"
   ]
  },
  {
   "cell_type": "markdown",
   "id": "9eed1337-4347-4f72-81f1-a80972a4bf19",
   "metadata": {},
   "source": [
    "37. Convert a list to a dictionary where list elements become keys and their\n",
    "indices become values."
   ]
  },
  {
   "cell_type": "code",
   "execution_count": 46,
   "id": "615d7098-6797-4380-a405-dd887854c6cc",
   "metadata": {},
   "outputs": [
    {
     "name": "stdout",
     "output_type": "stream",
     "text": [
      "{'apple': 0, 'banana': 1, 'cherry': 2, 'date': 3}\n"
     ]
    }
   ],
   "source": [
    "def list_to_dict(lst):\n",
    "    return {value: index for index, value in enumerate(lst)}\n",
    "\n",
    "# Example usage:\n",
    "my_list = [\"apple\", \"banana\", \"cherry\", \"date\"]\n",
    "result_dict = list_to_dict(my_list)\n",
    "print(result_dict)"
   ]
  },
  {
   "cell_type": "markdown",
   "id": "b230e6d1-5ab4-4804-9cf9-5e482d15ffbe",
   "metadata": {},
   "source": [
    "38. Shuffle the elements of a list randomly."
   ]
  },
  {
   "cell_type": "code",
   "execution_count": 47,
   "id": "e58ddf4a-0124-4d32-aea0-46d9639f4977",
   "metadata": {},
   "outputs": [
    {
     "name": "stdout",
     "output_type": "stream",
     "text": [
      "[2, 3, 1, 4, 5]\n"
     ]
    }
   ],
   "source": [
    "import random\n",
    "\n",
    "def shuffle_list(lst):\n",
    "    # Create a copy of the list to avoid modifying the original list\n",
    "    shuffled_lst = lst.copy()\n",
    "    random.shuffle(shuffled_lst)\n",
    "    return shuffled_lst\n",
    "\n",
    "# Example usage:\n",
    "my_list = [1, 2, 3, 4, 5]\n",
    "shuffled_list = shuffle_list(my_list)\n",
    "print(shuffled_list)"
   ]
  },
  {
   "cell_type": "markdown",
   "id": "deda5184-2c0d-4fa8-9ef5-30d2a60e4b63",
   "metadata": {},
   "source": [
    "39. Create a list of the first 10 factorial numbers."
   ]
  },
  {
   "cell_type": "code",
   "execution_count": 48,
   "id": "d0b0de51-d9e5-4f0a-b2f4-258956ac5e52",
   "metadata": {},
   "outputs": [
    {
     "name": "stdout",
     "output_type": "stream",
     "text": [
      "[1, 2, 6, 24, 120, 720, 5040, 40320, 362880, 3628800]\n"
     ]
    }
   ],
   "source": [
    "def factorial(n):\n",
    "    if n == 0:\n",
    "        return 1\n",
    "    else:\n",
    "        return n * factorial(n - 1)\n",
    "\n",
    "# Generate a list of the first 10 factorial numbers\n",
    "factorial_numbers = [factorial(n) for n in range(1, 11)]\n",
    "\n",
    "# Print the list of factorial numbers\n",
    "print(factorial_numbers)"
   ]
  },
  {
   "cell_type": "markdown",
   "id": "23ace9d4-9109-4866-807a-be5d3fa2b805",
   "metadata": {},
   "source": [
    "40. Check if two lists have at least one element in common."
   ]
  },
  {
   "cell_type": "code",
   "execution_count": 49,
   "id": "9fa0000a-9f8f-456f-b01b-f8eacd62e052",
   "metadata": {},
   "outputs": [
    {
     "name": "stdout",
     "output_type": "stream",
     "text": [
      "The two lists have at least one common element.\n"
     ]
    }
   ],
   "source": [
    "def have_common_element(list1, list2):\n",
    "    set1 = set(list1)\n",
    "    set2 = set(list2)\n",
    "    common_elements = set1.intersection(set2)\n",
    "    return len(common_elements) > 0\n",
    "\n",
    "# Example usage:\n",
    "list1 = [1, 2, 3, 4, 5]\n",
    "list2 = [5, 6, 7, 8, 9]\n",
    "\n",
    "if have_common_element(list1, list2):\n",
    "    print(\"The two lists have at least one common element.\")\n",
    "else:\n",
    "    print(\"The two lists do not have any common elements.\")"
   ]
  },
  {
   "cell_type": "markdown",
   "id": "973e9e50-8f07-4c84-8caa-1e51eeaf3604",
   "metadata": {},
   "source": [
    "41. Remove all elements from a list."
   ]
  },
  {
   "cell_type": "code",
   "execution_count": 50,
   "id": "8cd00f87-e406-47bf-84fc-a11080404340",
   "metadata": {},
   "outputs": [
    {
     "name": "stdout",
     "output_type": "stream",
     "text": [
      "[]\n"
     ]
    }
   ],
   "source": [
    "my_list = [1, 2, 3, 4, 5]\n",
    "my_list.clear()  # Clear the list in-place\n",
    "print(my_list)  # Output: []"
   ]
  },
  {
   "cell_type": "markdown",
   "id": "1aeb66fc-4a35-458d-9f50-09a2deab2b55",
   "metadata": {},
   "source": [
    "42. Replace negative numbers in a list with 0."
   ]
  },
  {
   "cell_type": "code",
   "execution_count": 51,
   "id": "1db3b38d-d1c6-4e05-b101-ce7d9d22e400",
   "metadata": {},
   "outputs": [
    {
     "name": "stdout",
     "output_type": "stream",
     "text": [
      "[1, 0, 3, 0, 5]\n"
     ]
    }
   ],
   "source": [
    "def replace_negatives_with_zero(lst):\n",
    "    return [0 if num < 0 else num for num in lst]\n",
    "\n",
    "# Example usage:\n",
    "my_list = [1, -2, 3, -4, 5]\n",
    "result_list = replace_negatives_with_zero(my_list)\n",
    "print(result_list)"
   ]
  },
  {
   "cell_type": "markdown",
   "id": "7ff30637-7141-43b1-ad6d-f6dbc29500dc",
   "metadata": {},
   "source": [
    "43. Convert a string into a list of words."
   ]
  },
  {
   "cell_type": "code",
   "execution_count": 54,
   "id": "59b4dcba-b13a-462c-8611-1c30a4167529",
   "metadata": {},
   "outputs": [
    {
     "name": "stdout",
     "output_type": "stream",
     "text": [
      "['This', 'is', 'a', 'sample', 'sentence.']\n"
     ]
    }
   ],
   "source": [
    "# Convert a string into a list of words\n",
    "text = \"This is a sample sentence.\"\n",
    "word_list = text.split()\n",
    "\n",
    "# Print the list of words\n",
    "print(word_list)"
   ]
  },
  {
   "cell_type": "markdown",
   "id": "e204f710-858f-464f-b664-990e13d53927",
   "metadata": {},
   "source": [
    "44. Convert a list of words into a string."
   ]
  },
  {
   "cell_type": "code",
   "execution_count": 55,
   "id": "f5b39235-2f2c-4c80-a939-e01713147edf",
   "metadata": {},
   "outputs": [
    {
     "name": "stdout",
     "output_type": "stream",
     "text": [
      "This is a sample sentence.\n"
     ]
    }
   ],
   "source": [
    "# Convert a list of words into a string\n",
    "word_list = ['This', 'is', 'a', 'sample', 'sentence.']\n",
    "text = ' '.join(word_list)\n",
    "\n",
    "# Print the resulting string\n",
    "print(text)"
   ]
  },
  {
   "cell_type": "markdown",
   "id": "77ec8149-d8a1-40cf-8c24-dfc736903421",
   "metadata": {},
   "source": [
    "45. Create a list of the first `n` powers of 2."
   ]
  },
  {
   "cell_type": "code",
   "execution_count": 56,
   "id": "db4d4cb1-048a-459e-9191-184e4c9440cf",
   "metadata": {},
   "outputs": [
    {
     "name": "stdout",
     "output_type": "stream",
     "text": [
      "[1, 2, 4, 8, 16]\n"
     ]
    }
   ],
   "source": [
    "n = 5  # Change n to the desired number of powers of 2\n",
    "powers_of_2 = [2 ** i for i in range(n)]\n",
    "\n",
    "# Print the list of powers of 2\n",
    "print(powers_of_2)"
   ]
  },
  {
   "cell_type": "markdown",
   "id": "1d847b4a-dd5a-42a7-9ed0-db7c739f5e01",
   "metadata": {},
   "source": [
    "46. Find the longest string in a list of strings."
   ]
  },
  {
   "cell_type": "code",
   "execution_count": 58,
   "id": "e252d081-03c6-43ca-bb2b-364faf876846",
   "metadata": {},
   "outputs": [
    {
     "name": "stdout",
     "output_type": "stream",
     "text": [
      "The longest string is: elderberry\n"
     ]
    }
   ],
   "source": [
    "def find_longest_string(strings):\n",
    "    if not strings:\n",
    "        return None  # Handle the case of an empty list\n",
    "    return max(strings, key=len)\n",
    "\n",
    "# Example usage:\n",
    "string_list = [\"apple\", \"banana\", \"cherry\", \"date\", \"elderberry\"]\n",
    "longest_string = find_longest_string(string_list)\n",
    "print(\"The longest string is:\", longest_string)"
   ]
  },
  {
   "cell_type": "markdown",
   "id": "df5549f8-fc9a-490c-87d9-7fd1199d58df",
   "metadata": {},
   "source": [
    "47. Find the shortest string in a list of strings."
   ]
  },
  {
   "cell_type": "code",
   "execution_count": 59,
   "id": "3fd9f7e5-9dc1-4e54-82e7-77a86f765856",
   "metadata": {},
   "outputs": [
    {
     "name": "stdout",
     "output_type": "stream",
     "text": [
      "The shortest string is: date\n"
     ]
    }
   ],
   "source": [
    "def find_shortest_string(strings):\n",
    "    if not strings:\n",
    "        return None  # Handle the case of an empty list\n",
    "    return min(strings, key=len)\n",
    "\n",
    "# Example usage:\n",
    "string_list = [\"apple\", \"banana\", \"cherry\", \"date\", \"elderberry\"]\n",
    "shortest_string = find_shortest_string(string_list)\n",
    "print(\"The shortest string is:\", shortest_string)"
   ]
  },
  {
   "cell_type": "markdown",
   "id": "d3f1939a-c745-49ec-a8f0-34c8d2edddbf",
   "metadata": {},
   "source": [
    "48. Create a list of the first `n` triangular numbers."
   ]
  },
  {
   "cell_type": "code",
   "execution_count": 62,
   "id": "f75a4c6a-83c9-4b0b-af2e-e6b7005fc343",
   "metadata": {},
   "outputs": [
    {
     "name": "stdout",
     "output_type": "stream",
     "text": [
      "[1, 3, 6, 10, 15]\n"
     ]
    }
   ],
   "source": [
    "def generate_triangular_numbers(n):\n",
    "    triangular_numbers = []\n",
    "    total = 0\n",
    "    for i in range(1, n + 1):\n",
    "        total += i\n",
    "        triangular_numbers.append(total)\n",
    "    return triangular_numbers\n",
    "\n",
    "# Example usage:\n",
    "n = 5  # Change n to the desired number of triangular numbers\n",
    "triangular_numbers = generate_triangular_numbers(n)\n",
    "print(triangular_numbers)\n"
   ]
  },
  {
   "cell_type": "markdown",
   "id": "f66db943-4e48-42a3-b9a3-d2d2ea293ebd",
   "metadata": {},
   "source": [
    "49. Check if a list contains another list as a subsequence."
   ]
  },
  {
   "cell_type": "code",
   "execution_count": 63,
   "id": "b92e8e4a-8d5d-4e64-b521-2d6193a1fae5",
   "metadata": {},
   "outputs": [
    {
     "name": "stdout",
     "output_type": "stream",
     "text": [
      "sub_list is a subsequence of main_list.\n"
     ]
    }
   ],
   "source": [
    "def is_subsequence(sublist, mainlist):\n",
    "    sub_len = len(sublist)\n",
    "    main_len = len(mainlist)\n",
    "    \n",
    "    if sub_len > main_len:\n",
    "        return False\n",
    "\n",
    "    sub_index = 0  # Index for the sublist\n",
    "    main_index = 0  # Index for the mainlist\n",
    "\n",
    "    while main_index < main_len and sub_index < sub_len:\n",
    "        if sublist[sub_index] == mainlist[main_index]:\n",
    "            sub_index += 1\n",
    "        main_index += 1\n",
    "\n",
    "    return sub_index == sub_len\n",
    "\n",
    "# Example usage:\n",
    "main_list = [1, 2, 3, 4, 5, 6]\n",
    "sub_list = [2, 4, 6]\n",
    "\n",
    "if is_subsequence(sub_list, main_list):\n",
    "    print(\"sub_list is a subsequence of main_list.\")\n",
    "else:\n",
    "    print(\"sub_list is not a subsequence of main_list.\")"
   ]
  },
  {
   "cell_type": "markdown",
   "id": "20148937-8fb1-477a-9832-dcf418c77e49",
   "metadata": {},
   "source": [
    "50. Swap two elements in a list by their indices."
   ]
  },
  {
   "cell_type": "code",
   "execution_count": null,
   "id": "1a5ab63f-8b02-42f1-9a1b-5f1516ab32f4",
   "metadata": {},
   "outputs": [
    {
     "name": "stdout",
     "output_type": "stream",
     "text": [
      "[1, 4, 3, 2, 5]\n"
     ]
    }
   ],
   "source": [
    "def swap_elements(lst, index1, index2):\n",
    "    if 0 <= index1 < len(lst) and 0 <= index2 < len(lst):\n",
    "        lst[index1], lst[index2] = lst[index2], lst[index1]\n",
    "    else:\n",
    "        print(\"Invalid indices\")\n",
    "\n",
    "# Example usage:\n",
    "my_list = [1, 2, 3, 4, 5]\n",
    "index1 = 1\n",
    "index2 = 3\n",
    "\n",
    "swap_elements(my_list, index1, index2)\n",
    "print(my_list)"
   ]
  },
  {
   "cell_type": "markdown",
   "id": "1f7205ee-eecb-4ea0-b7c5-4601346bff37",
   "metadata": {},
   "source": [
    "Tuple Based Practice Problem :\n",
    "    "
   ]
  },
  {
   "cell_type": "markdown",
   "id": "378f988a-d94e-4fa5-b3a1-40bbdd2aeda3",
   "metadata": {},
   "source": [
    "1. Create a tuple with integers from 1 to 5."
   ]
  },
  {
   "cell_type": "code",
   "execution_count": 66,
   "id": "cc7d7bd3-b8fd-4fe7-b6c4-36d4aafa12e6",
   "metadata": {},
   "outputs": [],
   "source": [
    "my_tuple = (1, 2, 3, 4, 5)\n"
   ]
  },
  {
   "cell_type": "markdown",
   "id": "cc0e9a3e-5d84-4aef-b24a-15e4b8394616",
   "metadata": {},
   "source": [
    "2. Access the third element of a tuple."
   ]
  },
  {
   "cell_type": "code",
   "execution_count": 67,
   "id": "64d93fd2-44bf-44c2-882d-699e285950a8",
   "metadata": {},
   "outputs": [
    {
     "name": "stdout",
     "output_type": "stream",
     "text": [
      "The third element is: 3\n"
     ]
    }
   ],
   "source": [
    "my_tuple = (1, 2, 3, 4, 5)\n",
    "third_element = my_tuple[2]\n",
    "\n",
    "print(\"The third element is:\", third_element)"
   ]
  },
  {
   "cell_type": "markdown",
   "id": "11103f39-0650-4834-99a8-69a46db53c91",
   "metadata": {},
   "source": [
    "3. Find the length of a tuple without using the `len()` function."
   ]
  },
  {
   "cell_type": "code",
   "execution_count": 68,
   "id": "7f9b6b44-5754-4724-bb73-2fdc1833c310",
   "metadata": {},
   "outputs": [
    {
     "name": "stdout",
     "output_type": "stream",
     "text": [
      "The length of the tuple is: 5\n"
     ]
    }
   ],
   "source": [
    "def tuple_length(my_tuple):\n",
    "    count = 0\n",
    "    for _ in my_tuple:\n",
    "        count += 1\n",
    "    return count\n",
    "\n",
    "# Example usage:\n",
    "my_tuple = (1, 2, 3, 4, 5)\n",
    "length = tuple_length(my_tuple)\n",
    "print(\"The length of the tuple is:\", length)"
   ]
  },
  {
   "cell_type": "markdown",
   "id": "d98a01fb-4f54-4764-a9ca-6ebff365eb12",
   "metadata": {},
   "source": [
    "4. Count the occurrences of an element in a tuple."
   ]
  },
  {
   "cell_type": "code",
   "execution_count": 69,
   "id": "8837f1ee-cf90-4766-9915-0453ea7b6166",
   "metadata": {},
   "outputs": [
    {
     "name": "stdout",
     "output_type": "stream",
     "text": [
      "The element 2 appears 3 times in the tuple.\n"
     ]
    }
   ],
   "source": [
    "my_tuple = (1, 2, 2, 3, 4, 2, 5)\n",
    "element_to_count = 2\n",
    "\n",
    "count = my_tuple.count(element_to_count)\n",
    "\n",
    "print(\"The element\", element_to_count, \"appears\", count, \"times in the tuple.\")"
   ]
  },
  {
   "cell_type": "markdown",
   "id": "e3d882be-feb6-4427-a016-303b45e11578",
   "metadata": {},
   "source": [
    "5. Find the index of the first occurrence of an element in a tuple."
   ]
  },
  {
   "cell_type": "code",
   "execution_count": 70,
   "id": "031d2232-2991-4cca-b6d6-6cca9d87b4ed",
   "metadata": {},
   "outputs": [
    {
     "name": "stdout",
     "output_type": "stream",
     "text": [
      "The first occurrence of 3 is at index: 2\n"
     ]
    }
   ],
   "source": [
    "my_tuple = (1, 2, 3, 4, 5, 3, 6)\n",
    "element_to_find = 3\n",
    "\n",
    "index = my_tuple.index(element_to_find)\n",
    "\n",
    "print(\"The first occurrence of\", element_to_find, \"is at index:\", index)"
   ]
  },
  {
   "cell_type": "markdown",
   "id": "9333e3b1-60f5-4b53-b0b7-b2afad07346d",
   "metadata": {},
   "source": [
    "6. Check if an element exists in a tuple."
   ]
  },
  {
   "cell_type": "code",
   "execution_count": 71,
   "id": "14247e50-cadc-48ae-9d54-118fd6413521",
   "metadata": {},
   "outputs": [
    {
     "name": "stdout",
     "output_type": "stream",
     "text": [
      "3 exists in the tuple.\n"
     ]
    }
   ],
   "source": [
    "my_tuple = (1, 2, 3, 4, 5)\n",
    "element_to_check = 3\n",
    "\n",
    "if element_to_check in my_tuple:\n",
    "    print(element_to_check, \"exists in the tuple.\")\n",
    "else:\n",
    "    print(element_to_check, \"does not exist in the tuple.\")"
   ]
  },
  {
   "cell_type": "markdown",
   "id": "6b2adc0c-69b8-4e79-9029-fe3de92e86c5",
   "metadata": {},
   "source": [
    "7. Convert a tuple to a list."
   ]
  },
  {
   "cell_type": "code",
   "execution_count": 72,
   "id": "eaca1fd3-2878-4977-8c26-d669c54d7a9f",
   "metadata": {},
   "outputs": [
    {
     "name": "stdout",
     "output_type": "stream",
     "text": [
      "Tuple: (1, 2, 3, 4, 5)\n",
      "List: [1, 2, 3, 4, 5]\n"
     ]
    }
   ],
   "source": [
    "my_tuple = (1, 2, 3, 4, 5)\n",
    "my_list = list(my_tuple)\n",
    "\n",
    "print(\"Tuple:\", my_tuple)\n",
    "print(\"List:\", my_list)"
   ]
  },
  {
   "cell_type": "markdown",
   "id": "4ae00c6d-1138-45f7-a4a6-e2652263f8c3",
   "metadata": {},
   "source": [
    "8. Convert a list to a tuple."
   ]
  },
  {
   "cell_type": "markdown",
   "id": "53ecccd6-74fa-43aa-b739-e2105ac57959",
   "metadata": {},
   "source": [
    "8. Convert a list to a tuple."
   ]
  },
  {
   "cell_type": "code",
   "execution_count": 73,
   "id": "ab6b06e0-e9e4-4ded-9b2a-2f369e70fb50",
   "metadata": {},
   "outputs": [
    {
     "name": "stdout",
     "output_type": "stream",
     "text": [
      "List: [1, 2, 3, 4, 5]\n",
      "Tuple: (1, 2, 3, 4, 5)\n"
     ]
    }
   ],
   "source": [
    "my_list = [1, 2, 3, 4, 5]\n",
    "my_tuple = tuple(my_list)\n",
    "\n",
    "print(\"List:\", my_list)\n",
    "print(\"Tuple:\", my_tuple)"
   ]
  },
  {
   "cell_type": "markdown",
   "id": "2cac37b0-27c6-44f8-8e6b-e56f66f7a6e5",
   "metadata": {},
   "source": [
    "9. Unpack the elements of a tuple into variables."
   ]
  },
  {
   "cell_type": "code",
   "execution_count": 74,
   "id": "8464d6ed-404a-4ca3-a529-e150586b3dde",
   "metadata": {},
   "outputs": [
    {
     "name": "stdout",
     "output_type": "stream",
     "text": [
      "var1: 1\n",
      "var2: 2\n",
      "var3: 3\n"
     ]
    }
   ],
   "source": [
    "my_tuple = (1, 2, 3)\n",
    "\n",
    "# Unpack the tuple into variables\n",
    "var1, var2, var3 = my_tuple\n",
    "\n",
    "# Now, you can use var1, var2, and var3 as individual variables\n",
    "print(\"var1:\", var1)\n",
    "print(\"var2:\", var2)\n",
    "print(\"var3:\", var3)"
   ]
  },
  {
   "cell_type": "markdown",
   "id": "7a9d99b9-ff7e-4806-8554-4a250b2f8120",
   "metadata": {},
   "source": [
    "10. Create a tuple of even numbers from 1 to 10."
   ]
  },
  {
   "cell_type": "code",
   "execution_count": 75,
   "id": "5099cf61-7b13-4bd5-a5a3-c0fd2dca9076",
   "metadata": {},
   "outputs": [
    {
     "name": "stdout",
     "output_type": "stream",
     "text": [
      "(2, 4, 6, 8, 10)\n"
     ]
    }
   ],
   "source": [
    "even_numbers_tuple = tuple(range(2, 11, 2))\n",
    "print(even_numbers_tuple)"
   ]
  },
  {
   "cell_type": "markdown",
   "id": "42478332-d297-4484-9869-3be4b50a32c4",
   "metadata": {},
   "source": [
    "11. Create a tuple of odd numbers from 1 to 10."
   ]
  },
  {
   "cell_type": "code",
   "execution_count": 1,
   "id": "aec21967-d523-4b03-8d5c-48e969e70592",
   "metadata": {},
   "outputs": [
    {
     "name": "stdout",
     "output_type": "stream",
     "text": [
      "[1, 3, 5, 7, 9]\n"
     ]
    }
   ],
   "source": [
    "odd_numbers = [x for x in range(10) if x%2==1]\n",
    "print(odd_numbers)"
   ]
  },
  {
   "cell_type": "markdown",
   "id": "db8ab24b-e49b-4b0c-bde7-ce9570fa9507",
   "metadata": {},
   "source": [
    "12. Concatenate two tuples."
   ]
  },
  {
   "cell_type": "code",
   "execution_count": 3,
   "id": "d8d8c10e-3408-4374-aa50-e038dac4dd7d",
   "metadata": {},
   "outputs": [
    {
     "name": "stdout",
     "output_type": "stream",
     "text": [
      "(1, 2, 3, 4, 5, 6)\n"
     ]
    }
   ],
   "source": [
    "tuple1 = (1, 2, 3)\n",
    "tuple2 = (4, 5, 6)\n",
    "\n",
    "concatenated_tuple = tuple1 + tuple2\n",
    "\n",
    "print(concatenated_tuple)"
   ]
  },
  {
   "cell_type": "markdown",
   "id": "c2775668-b832-4ab5-9a3f-c14b48d0ba98",
   "metadata": {},
   "source": [
    "13. Repeat a tuple three times."
   ]
  },
  {
   "cell_type": "code",
   "execution_count": 4,
   "id": "7e090a2f-339d-460b-ba31-b5728071119b",
   "metadata": {},
   "outputs": [
    {
     "name": "stdout",
     "output_type": "stream",
     "text": [
      "(1, 2, 3, 1, 2, 3, 1, 2, 3)\n"
     ]
    }
   ],
   "source": [
    "original_tuple = (1, 2, 3)\n",
    "\n",
    "repeated_tuple = original_tuple * 3\n",
    "\n",
    "print(repeated_tuple)"
   ]
  },
  {
   "cell_type": "markdown",
   "id": "c69b50ba-8b0e-43b5-a4ed-79e5c6e38ca7",
   "metadata": {},
   "source": [
    "14. Check if a tuple is empty."
   ]
  },
  {
   "cell_type": "code",
   "execution_count": 5,
   "id": "50b72cb8-b1ff-4636-8922-e0ea3648d8e1",
   "metadata": {},
   "outputs": [
    {
     "name": "stdout",
     "output_type": "stream",
     "text": [
      "The tuple is empty.\n"
     ]
    }
   ],
   "source": [
    "my_tuple = ()\n",
    "\n",
    "if len(my_tuple) == 0:\n",
    "    print(\"The tuple is empty.\")\n",
    "else:\n",
    "    print(\"The tuple is not empty.\")"
   ]
  },
  {
   "cell_type": "markdown",
   "id": "a408d7c8-bec3-4a16-8357-c63bab72e0ef",
   "metadata": {},
   "source": [
    "15. Create a nested tuple."
   ]
  },
  {
   "cell_type": "code",
   "execution_count": 6,
   "id": "4687f591-88be-463b-9888-153dc7437e8e",
   "metadata": {},
   "outputs": [
    {
     "name": "stdout",
     "output_type": "stream",
     "text": [
      "((1, 2), (3, 4, 5), (6,))\n"
     ]
    }
   ],
   "source": [
    "nested_tuple = ((1, 2), (3, 4, 5), (6,))\n",
    "\n",
    "print(nested_tuple)"
   ]
  },
  {
   "cell_type": "markdown",
   "id": "81dc3f17-082b-4050-b88c-1f44f732749e",
   "metadata": {},
   "source": [
    "16. Access the first element of a nested tuple."
   ]
  },
  {
   "cell_type": "code",
   "execution_count": 7,
   "id": "33eff176-c9c4-4a4f-8187-392457f70c5d",
   "metadata": {},
   "outputs": [
    {
     "name": "stdout",
     "output_type": "stream",
     "text": [
      "The first element of the nested tuple is: (1, 2)\n"
     ]
    }
   ],
   "source": [
    "nested_tuple = ((1, 2), (3, 4, 5), (6,))\n",
    "\n",
    "first_element = nested_tuple[0]\n",
    "\n",
    "print(\"The first element of the nested tuple is:\", first_element)"
   ]
  },
  {
   "cell_type": "markdown",
   "id": "c2adfe8e-2143-4da9-89d3-f5ad8f82810a",
   "metadata": {},
   "source": [
    "17. Create a tuple with a single element."
   ]
  },
  {
   "cell_type": "code",
   "execution_count": 8,
   "id": "15040394-942a-4fa5-8a82-0e60f2e0d016",
   "metadata": {},
   "outputs": [
    {
     "name": "stdout",
     "output_type": "stream",
     "text": [
      "(42,)\n"
     ]
    }
   ],
   "source": [
    "single_element_tuple = (42,)\n",
    "print(single_element_tuple)"
   ]
  },
  {
   "cell_type": "markdown",
   "id": "87164f31-3ab2-4765-9d4c-1b699d62fb3a",
   "metadata": {},
   "source": [
    "18. Compare two tuples."
   ]
  },
  {
   "cell_type": "code",
   "execution_count": 9,
   "id": "ace6b5b0-801b-421c-869e-a00c449c37f8",
   "metadata": {},
   "outputs": [
    {
     "name": "stdout",
     "output_type": "stream",
     "text": [
      "tuple1 is not equal to tuple2\n",
      "tuple1 is not equal to tuple2\n",
      "tuple1 is not greater than tuple2\n",
      "tuple1 is less than tuple2\n"
     ]
    }
   ],
   "source": [
    "tuple1 = (1, 2, 3)\n",
    "tuple2 = (1, 2, 4)\n",
    "\n",
    "# Compare for equality\n",
    "if tuple1 == tuple2:\n",
    "    print(\"tuple1 is equal to tuple2\")\n",
    "else:\n",
    "    print(\"tuple1 is not equal to tuple2\")\n",
    "\n",
    "# Compare for inequality\n",
    "if tuple1 != tuple2:\n",
    "    print(\"tuple1 is not equal to tuple2\")\n",
    "else:\n",
    "    print(\"tuple1 is equal to tuple2\")\n",
    "\n",
    "# Compare for greater than\n",
    "if tuple1 > tuple2:\n",
    "    print(\"tuple1 is greater than tuple2\")\n",
    "else:\n",
    "    print(\"tuple1 is not greater than tuple2\")\n",
    "\n",
    "# Compare for less than\n",
    "if tuple1 < tuple2:\n",
    "    print(\"tuple1 is less than tuple2\")\n",
    "else:\n",
    "    print(\"tuple1 is not less than tuple2\")"
   ]
  },
  {
   "cell_type": "markdown",
   "id": "8f52dcfd-e8a4-4abc-af2d-481c7f515a97",
   "metadata": {},
   "source": [
    "19. Delete a tuple."
   ]
  },
  {
   "cell_type": "code",
   "execution_count": 11,
   "id": "f1ee5397-5e14-4400-9559-a8f6c9043d07",
   "metadata": {},
   "outputs": [],
   "source": [
    "my_tuple = (1, 2, 3, 4, 5)\n",
    "\n",
    "# Deleting the entire tuple\n",
    "del my_tuple\n",
    "\n",
    "# Trying to access the tuple after deletion will raise an error\n",
    "# For example:\n",
    "# print(my_tuple)  # This will raise a NameError because the tuple no longer exists"
   ]
  },
  {
   "cell_type": "markdown",
   "id": "ceb957f0-ff0b-4193-bff3-f8681f045683",
   "metadata": {},
   "source": [
    "20. Slice a tuple."
   ]
  },
  {
   "cell_type": "code",
   "execution_count": 13,
   "id": "60f8aab3-b10b-42c5-855f-5974d735b660",
   "metadata": {},
   "outputs": [
    {
     "name": "stdout",
     "output_type": "stream",
     "text": [
      "(3, 5, 7)\n"
     ]
    }
   ],
   "source": [
    "my_tuple = (1, 2, 3, 4, 5, 6, 7, 8, 9, 10)\n",
    "\n",
    "# Slicing to create a new tuple with elements from index 2 to 6 (inclusive) with a step of 2\n",
    "sliced_tuple = my_tuple[2:7:2]\n",
    "\n",
    "print(sliced_tuple)"
   ]
  },
  {
   "cell_type": "markdown",
   "id": "45e8ad09-20b4-4aa3-a5e5-d45151e60990",
   "metadata": {},
   "source": [
    "21. Find the maximum value in a tuple."
   ]
  },
  {
   "cell_type": "code",
   "execution_count": 14,
   "id": "b59e0bbd-8872-494a-89b2-ae84e8d8c677",
   "metadata": {},
   "outputs": [
    {
     "name": "stdout",
     "output_type": "stream",
     "text": [
      "The maximum value in the tuple is: 9\n"
     ]
    }
   ],
   "source": [
    "my_tuple = (5, 2, 9, 1, 8, 4)\n",
    "\n",
    "max_value = max(my_tuple)\n",
    "\n",
    "print(\"The maximum value in the tuple is:\", max_value)"
   ]
  },
  {
   "cell_type": "markdown",
   "id": "803c1d2b-07b7-4e35-94df-60811bca7c23",
   "metadata": {},
   "source": [
    "22. Find the minimum value in a tuple."
   ]
  },
  {
   "cell_type": "code",
   "execution_count": 15,
   "id": "f66fd7ff-ff4e-4d31-9fe7-10fe9116b5a8",
   "metadata": {},
   "outputs": [
    {
     "name": "stdout",
     "output_type": "stream",
     "text": [
      "The minimum value in the tuple is: 1\n"
     ]
    }
   ],
   "source": [
    "my_tuple = (5, 2, 9, 1, 8, 4)\n",
    "\n",
    "min_value = min(my_tuple)\n",
    "\n",
    "print(\"The minimum value in the tuple is:\", min_value)"
   ]
  },
  {
   "cell_type": "markdown",
   "id": "8dcc5f6c-eb13-4bc1-97ad-1cc0e940924a",
   "metadata": {},
   "source": [
    "23. Convert a string to a tuple of characters."
   ]
  },
  {
   "cell_type": "code",
   "execution_count": 16,
   "id": "9c63c05d-5d08-4bf0-b3db-c7b0863da5ef",
   "metadata": {},
   "outputs": [
    {
     "name": "stdout",
     "output_type": "stream",
     "text": [
      "('H', 'e', 'l', 'l', 'o', ',', ' ', 'W', 'o', 'r', 'l', 'd', '!')\n"
     ]
    }
   ],
   "source": [
    "my_string = \"Hello, World!\"\n",
    "\n",
    "# Using tuple comprehension to convert the string to a tuple of characters\n",
    "char_tuple = tuple(char for char in my_string)\n",
    "\n",
    "print(char_tuple)"
   ]
  },
  {
   "cell_type": "markdown",
   "id": "da405067-570a-4999-a84c-48332a22b936",
   "metadata": {},
   "source": [
    "24. Convert a tuple of characters to a string."
   ]
  },
  {
   "cell_type": "code",
   "execution_count": 18,
   "id": "5cd7f93b-e2a2-472d-b8ff-9aee0011197a",
   "metadata": {},
   "outputs": [
    {
     "name": "stdout",
     "output_type": "stream",
     "text": [
      "Hello, World!\n"
     ]
    }
   ],
   "source": [
    "char_tuple = ('H', 'e', 'l', 'l', 'o', ',', ' ', 'W', 'o', 'r', 'l', 'd', '!')\n",
    "\n",
    "# Using the join() method to convert the tuple to a string\n",
    "resulting_string = ''.join(char_tuple)\n",
    "\n",
    "print(resulting_string)"
   ]
  },
  {
   "cell_type": "markdown",
   "id": "e8e4c8da-4a91-47a5-975d-7085b8642151",
   "metadata": {},
   "source": [
    "25. Create a tuple from multiple data types."
   ]
  },
  {
   "cell_type": "code",
   "execution_count": 19,
   "id": "8badedc1-3982-4844-8c42-b3433a9c6ecd",
   "metadata": {},
   "outputs": [
    {
     "name": "stdout",
     "output_type": "stream",
     "text": [
      "(1, 'Hello', 3.14, True)\n"
     ]
    }
   ],
   "source": [
    "mixed_tuple = (1, \"Hello\", 3.14, True)\n",
    "\n",
    "print(mixed_tuple)"
   ]
  },
  {
   "cell_type": "markdown",
   "id": "3755cdf4-9f6a-48d3-be26-5e0292f87b4b",
   "metadata": {},
   "source": [
    "26. Check if two tuples are identical."
   ]
  },
  {
   "cell_type": "code",
   "execution_count": 20,
   "id": "788f95f5-af8d-4358-b19a-525ad2c3ed9a",
   "metadata": {},
   "outputs": [
    {
     "name": "stdout",
     "output_type": "stream",
     "text": [
      "The two tuples are identical.\n"
     ]
    }
   ],
   "source": [
    "tuple1 = (1, 2, 3)\n",
    "tuple2 = (1, 2, 3)\n",
    "\n",
    "if tuple1 == tuple2:\n",
    "    print(\"The two tuples are identical.\")\n",
    "else:\n",
    "    print(\"The two tuples are not identical.\")"
   ]
  },
  {
   "cell_type": "markdown",
   "id": "6a2555bc-59fc-4473-9468-c7fc6f527f18",
   "metadata": {},
   "source": [
    "27. Sort the elements of a tuple."
   ]
  },
  {
   "cell_type": "code",
   "execution_count": 21,
   "id": "4a322adc-57a9-416b-a802-fdd2702f38ee",
   "metadata": {},
   "outputs": [
    {
     "name": "stdout",
     "output_type": "stream",
     "text": [
      "Original Tuple: (5, 2, 9, 1, 8, 4)\n",
      "Sorted Tuple: (1, 2, 4, 5, 8, 9)\n"
     ]
    }
   ],
   "source": [
    "my_tuple = (5, 2, 9, 1, 8, 4)\n",
    "\n",
    "# Convert the tuple to a list\n",
    "my_list = list(my_tuple)\n",
    "\n",
    "# Sort the list\n",
    "my_list.sort()\n",
    "\n",
    "# Convert the sorted list back to a tuple\n",
    "sorted_tuple = tuple(my_list)\n",
    "\n",
    "print(\"Original Tuple:\", my_tuple)\n",
    "print(\"Sorted Tuple:\", sorted_tuple)"
   ]
  },
  {
   "cell_type": "markdown",
   "id": "602156b6-5433-4c74-a821-ea5d85317fe7",
   "metadata": {},
   "source": [
    "28. Convert a tuple of integers to a tuple of strings."
   ]
  },
  {
   "cell_type": "code",
   "execution_count": 22,
   "id": "04fdbb44-0340-4364-8f43-f064235bafa9",
   "metadata": {},
   "outputs": [
    {
     "name": "stdout",
     "output_type": "stream",
     "text": [
      "('1', '2', '3', '4', '5')\n"
     ]
    }
   ],
   "source": [
    "tuple_of_integers = (1, 2, 3, 4, 5)\n",
    "\n",
    "# Convert the tuple of integers to a tuple of strings\n",
    "tuple_of_strings = tuple(str(x) for x in tuple_of_integers)\n",
    "\n",
    "print(tuple_of_strings)"
   ]
  },
  {
   "cell_type": "markdown",
   "id": "634a716c-7c30-41bd-a391-eea938dca75a",
   "metadata": {},
   "source": [
    "29. Convert a tuple of strings to a tuple of integers."
   ]
  },
  {
   "cell_type": "code",
   "execution_count": 23,
   "id": "9bbd773a-1f4b-4a47-9f93-b8b51c2ec100",
   "metadata": {},
   "outputs": [
    {
     "name": "stdout",
     "output_type": "stream",
     "text": [
      "(1, 2, 3, 4, 5)\n"
     ]
    }
   ],
   "source": [
    "tuple_of_strings = ('1', '2', '3', '4', '5')\n",
    "\n",
    "# Convert the tuple of strings to a tuple of integers\n",
    "tuple_of_integers = tuple(int(x) for x in tuple_of_strings)\n",
    "\n",
    "print(tuple_of_integers)"
   ]
  },
  {
   "cell_type": "markdown",
   "id": "edcd4731-8e18-4bd3-b16f-75920d147ddf",
   "metadata": {},
   "source": [
    "30. Merge two tuples."
   ]
  },
  {
   "cell_type": "code",
   "execution_count": 24,
   "id": "21e13990-94b7-4591-a374-9a25c3bcf9e9",
   "metadata": {},
   "outputs": [
    {
     "name": "stdout",
     "output_type": "stream",
     "text": [
      "(1, 2, 3, 4, 5, 6)\n"
     ]
    }
   ],
   "source": [
    "tuple1 = (1, 2, 3)\n",
    "tuple2 = (4, 5, 6)\n",
    "\n",
    "# Merge the two tuples\n",
    "merged_tuple = tuple1 + tuple2\n",
    "\n",
    "print(merged_tuple)"
   ]
  },
  {
   "cell_type": "markdown",
   "id": "aec6a871-1b9d-402a-b4c7-3fb6363ec105",
   "metadata": {},
   "source": [
    "31. Flatten a nested tuple."
   ]
  },
  {
   "cell_type": "code",
   "execution_count": 25,
   "id": "edc286b2-1cdf-4470-a0cf-86aa42ccb36c",
   "metadata": {},
   "outputs": [
    {
     "name": "stdout",
     "output_type": "stream",
     "text": [
      "(1, 2, 3, 4, 5, 6, 7)\n"
     ]
    }
   ],
   "source": [
    "def flatten_nested_tuple(nested_tuple):\n",
    "    flattened_list = []\n",
    "    for item in nested_tuple:\n",
    "        if isinstance(item, tuple):\n",
    "            flattened_list.extend(flatten_nested_tuple(item))\n",
    "        else:\n",
    "            flattened_list.append(item)\n",
    "    return tuple(flattened_list)\n",
    "\n",
    "nested_tuple = ((1, 2), (3, (4, 5)), 6, 7)\n",
    "\n",
    "flattened_tuple = flatten_nested_tuple(nested_tuple)\n",
    "\n",
    "print(flattened_tuple)"
   ]
  },
  {
   "cell_type": "markdown",
   "id": "a6a55cff-b149-41b4-9728-e9fcd6aba908",
   "metadata": {},
   "source": [
    "32. Create a tuple of the first 5 prime numbers."
   ]
  },
  {
   "cell_type": "code",
   "execution_count": 29,
   "id": "df194c45-b405-4eaf-947d-c10719583661",
   "metadata": {},
   "outputs": [
    {
     "name": "stdout",
     "output_type": "stream",
     "text": [
      "Prime numbers between 0 and 11 are:\n",
      "2\n",
      "3\n",
      "5\n",
      "7\n",
      "11\n"
     ]
    }
   ],
   "source": [
    "# Python program to display all the prime numbers within an interval\n",
    "\n",
    "lower = 0\n",
    "upper = 11\n",
    "\n",
    "print(\"Prime numbers between\", lower, \"and\", upper, \"are:\")\n",
    "\n",
    "for num in range(lower, upper + 1):\n",
    "   # all prime numbers are greater than 1\n",
    "   if num > 1:\n",
    "       for i in range(2, num):\n",
    "           if (num % i) == 0:\n",
    "               break\n",
    "       else:\n",
    "           print(num)"
   ]
  },
  {
   "cell_type": "markdown",
   "id": "36c61f82-924b-46c8-9d33-49e634db9480",
   "metadata": {},
   "source": [
    "33. Check if a tuple is a palindrome."
   ]
  },
  {
   "cell_type": "code",
   "execution_count": 30,
   "id": "da8689c3-6ad5-49b8-b3c1-317bc0d5a6b2",
   "metadata": {},
   "outputs": [
    {
     "name": "stdout",
     "output_type": "stream",
     "text": [
      "Is tuple1 a palindrome? True\n",
      "Is tuple2 a palindrome? False\n"
     ]
    }
   ],
   "source": [
    "def is_palindrome_tuple(my_tuple):\n",
    "    reversed_tuple = my_tuple[::-1]  # Reverse the tuple\n",
    "    return my_tuple == reversed_tuple\n",
    "\n",
    "# Test cases\n",
    "tuple1 = (1, 2, 3, 2, 1)\n",
    "tuple2 = (1, 2, 3, 4, 5)\n",
    "\n",
    "print(\"Is tuple1 a palindrome?\", is_palindrome_tuple(tuple1))\n",
    "print(\"Is tuple2 a palindrome?\", is_palindrome_tuple(tuple2))"
   ]
  },
  {
   "cell_type": "markdown",
   "id": "f0828538-cbe5-45e5-a798-b4c0e3151441",
   "metadata": {},
   "source": [
    "34. Create a tuple of squares of numbers from 1 to 5."
   ]
  },
  {
   "cell_type": "code",
   "execution_count": 31,
   "id": "1fc5f08e-e442-42ce-9362-5e8873ae8bef",
   "metadata": {},
   "outputs": [
    {
     "name": "stdout",
     "output_type": "stream",
     "text": [
      "(1, 4, 9, 16, 25)\n"
     ]
    }
   ],
   "source": [
    "squares_tuple = tuple(x**2 for x in range(1, 6))\n",
    "\n",
    "print(squares_tuple)"
   ]
  },
  {
   "cell_type": "markdown",
   "id": "ced988d2-2627-430e-b89a-9be26ce48b26",
   "metadata": {},
   "source": [
    "35. Filter out all even numbers from a tuple."
   ]
  },
  {
   "cell_type": "code",
   "execution_count": 32,
   "id": "316fe849-50c5-4f6f-a6ca-cec43f8fead2",
   "metadata": {},
   "outputs": [
    {
     "name": "stdout",
     "output_type": "stream",
     "text": [
      "(1, 3, 5, 7, 9)\n"
     ]
    }
   ],
   "source": [
    "original_tuple = (1, 2, 3, 4, 5, 6, 7, 8, 9, 10)\n",
    "\n",
    "# Filter out even numbers\n",
    "filtered_tuple = tuple(x for x in original_tuple if x % 2 != 0)\n",
    "\n",
    "print(filtered_tuple)"
   ]
  },
  {
   "cell_type": "markdown",
   "id": "22ca2093-b255-4683-96be-3aac7d099328",
   "metadata": {},
   "source": [
    "36. Multiply all elements in a tuple by 2."
   ]
  },
  {
   "cell_type": "code",
   "execution_count": 33,
   "id": "027fffcf-8f67-4f49-af64-1d6d53058c9a",
   "metadata": {},
   "outputs": [
    {
     "name": "stdout",
     "output_type": "stream",
     "text": [
      "(2, 4, 6, 8, 10)\n"
     ]
    }
   ],
   "source": [
    "original_tuple = (1, 2, 3, 4, 5)\n",
    "\n",
    "# Multiply all elements by 2\n",
    "multiplied_tuple = tuple(x * 2 for x in original_tuple)\n",
    "\n",
    "print(multiplied_tuple)"
   ]
  },
  {
   "cell_type": "markdown",
   "id": "80ba3434-7d37-4506-b8dc-5250d64f5066",
   "metadata": {},
   "source": [
    "37. Create a tuple of random numbers."
   ]
  },
  {
   "cell_type": "code",
   "execution_count": 34,
   "id": "4893e2ef-99e1-4d35-97f8-c739ba16dfec",
   "metadata": {},
   "outputs": [
    {
     "name": "stdout",
     "output_type": "stream",
     "text": [
      "(100, 58, 23, 15, 15)\n"
     ]
    }
   ],
   "source": [
    "import random\n",
    "\n",
    "# Generate a tuple of 5 random integers between 1 and 100\n",
    "random_tuple = tuple(random.randint(1, 100) for _ in range(5))\n",
    "\n",
    "print(random_tuple)"
   ]
  },
  {
   "cell_type": "markdown",
   "id": "99dc551f-9739-4435-ad03-5fb29b6b3c7d",
   "metadata": {},
   "source": [
    "38. Check if a tuple is sorted."
   ]
  },
  {
   "cell_type": "code",
   "execution_count": 35,
   "id": "30a4d2a8-5aaa-4760-b5c9-00700d58699c",
   "metadata": {},
   "outputs": [
    {
     "name": "stdout",
     "output_type": "stream",
     "text": [
      "The tuple is sorted.\n"
     ]
    }
   ],
   "source": [
    "my_tuple = (1, 2, 3, 4, 5)\n",
    "\n",
    "# Check if the tuple is sorted\n",
    "is_sorted = my_tuple == tuple(sorted(my_tuple))\n",
    "\n",
    "if is_sorted:\n",
    "    print(\"The tuple is sorted.\")\n",
    "else:\n",
    "    print(\"The tuple is not sorted.\")"
   ]
  },
  {
   "cell_type": "markdown",
   "id": "c4e8da2f-0b9c-4b36-8fe7-4edbfc5a4b8d",
   "metadata": {},
   "source": [
    "39. Rotate a tuple to the left by `n` positions."
   ]
  },
  {
   "cell_type": "code",
   "execution_count": 36,
   "id": "b6fbb77d-2556-4221-bb85-d25fdb6ef995",
   "metadata": {},
   "outputs": [
    {
     "name": "stdout",
     "output_type": "stream",
     "text": [
      "(3, 4, 5, 1, 2)\n"
     ]
    }
   ],
   "source": [
    "def rotate_tuple_left(my_tuple, n):\n",
    "    if n <= 0:\n",
    "        return my_tuple  # No rotation needed\n",
    "\n",
    "    n = n % len(my_tuple)  # Ensure n is within the tuple length\n",
    "    rotated_tuple = my_tuple[n:] + my_tuple[:n]\n",
    "    return rotated_tuple\n",
    "\n",
    "original_tuple = (1, 2, 3, 4, 5)\n",
    "\n",
    "n = 2  # Rotate by 2 positions to the left\n",
    "\n",
    "rotated_tuple = rotate_tuple_left(original_tuple, n)\n",
    "\n",
    "print(rotated_tuple)"
   ]
  },
  {
   "cell_type": "markdown",
   "id": "a6016d3a-52fc-4294-8c1a-fe46e8d6a3f5",
   "metadata": {},
   "source": [
    "40. Rotate a tuple to the right by `n` positions."
   ]
  },
  {
   "cell_type": "code",
   "execution_count": 37,
   "id": "55fb2a55-48dc-442f-886b-00678c77b8f1",
   "metadata": {},
   "outputs": [
    {
     "name": "stdout",
     "output_type": "stream",
     "text": [
      "(4, 5, 1, 2, 3)\n"
     ]
    }
   ],
   "source": [
    "def rotate_tuple_right(my_tuple, n):\n",
    "    if n <= 0:\n",
    "        return my_tuple  # No rotation needed\n",
    "\n",
    "    n = n % len(my_tuple)  # Ensure n is within the tuple length\n",
    "    rotated_tuple = my_tuple[-n:] + my_tuple[:-n]\n",
    "    return rotated_tuple\n",
    "\n",
    "original_tuple = (1, 2, 3, 4, 5)\n",
    "\n",
    "n = 2  # Rotate by 2 positions to the right\n",
    "\n",
    "rotated_tuple = rotate_tuple_right(original_tuple, n)\n",
    "\n",
    "print(rotated_tuple)"
   ]
  },
  {
   "cell_type": "markdown",
   "id": "d12ca5ee-d037-41f5-b919-316a5218206d",
   "metadata": {},
   "source": [
    "41. Create a tuple of the first 5 Fibonacci numbers."
   ]
  },
  {
   "cell_type": "code",
   "execution_count": 38,
   "id": "9a86c2bb-496e-4487-8f76-ffc7f489758b",
   "metadata": {},
   "outputs": [
    {
     "name": "stdout",
     "output_type": "stream",
     "text": [
      "(0, 1, 1, 2, 3)\n"
     ]
    }
   ],
   "source": [
    "def generate_fibonacci(n):\n",
    "    fibonacci_sequence = [0, 1]  # Initialize the sequence with the first two Fibonacci numbers\n",
    "    while len(fibonacci_sequence) < n:\n",
    "        next_number = fibonacci_sequence[-1] + fibonacci_sequence[-2]\n",
    "        fibonacci_sequence.append(next_number)\n",
    "    return tuple(fibonacci_sequence)\n",
    "\n",
    "# Create a tuple of the first 5 Fibonacci numbers\n",
    "first_5_fibonacci = generate_fibonacci(5)\n",
    "\n",
    "print(first_5_fibonacci)"
   ]
  },
  {
   "cell_type": "markdown",
   "id": "b387b30b-f1a6-473a-b7ed-e9a62e27a993",
   "metadata": {},
   "source": [
    "42. Create a tuple from user input."
   ]
  },
  {
   "cell_type": "code",
   "execution_count": 39,
   "id": "8cde5504-4344-4111-8b98-1bc6937a0176",
   "metadata": {},
   "outputs": [
    {
     "name": "stdin",
     "output_type": "stream",
     "text": [
      "Enter a comma-separated list of values:  shweta nimbenni\n"
     ]
    },
    {
     "name": "stdout",
     "output_type": "stream",
     "text": [
      "User Tuple: ('shweta nimbenni',)\n"
     ]
    }
   ],
   "source": [
    "# Gather user input as a comma-separated string\n",
    "user_input = input(\"Enter a comma-separated list of values: \")\n",
    "\n",
    "# Split the input string into a list using a comma as the delimiter\n",
    "input_list = user_input.split(',')\n",
    "\n",
    "# Convert the list to a tuple\n",
    "user_tuple = tuple(input_list)\n",
    "\n",
    "print(\"User Tuple:\", user_tuple)"
   ]
  },
  {
   "cell_type": "markdown",
   "id": "982def7b-e1ee-4f9f-b010-984bd42d0cb5",
   "metadata": {},
   "source": [
    "43. Swap two elements in a tuple."
   ]
  },
  {
   "cell_type": "code",
   "execution_count": 40,
   "id": "90db7f9c-031b-45a4-a551-00c7f3c25c97",
   "metadata": {},
   "outputs": [
    {
     "name": "stdout",
     "output_type": "stream",
     "text": [
      "(1, 4, 3, 2, 5)\n"
     ]
    }
   ],
   "source": [
    "# Create a tuple\n",
    "my_tuple = (1, 2, 3, 4, 5)\n",
    "\n",
    "# Convert the tuple to a list\n",
    "my_list = list(my_tuple)\n",
    "\n",
    "# Swap two elements (e.g., swap the elements at index 1 and 3)\n",
    "index1, index2 = 1, 3\n",
    "my_list[index1], my_list[index2] = my_list[index2], my_list[index1]\n",
    "\n",
    "# Convert the list back to a tuple\n",
    "my_tuple = tuple(my_list)\n",
    "\n",
    "print(my_tuple)"
   ]
  },
  {
   "cell_type": "markdown",
   "id": "e6b7a4d9-2345-488d-ac4d-6ac3359094bb",
   "metadata": {},
   "source": [
    "44. Reverse the elements of a tuple."
   ]
  },
  {
   "cell_type": "code",
   "execution_count": 41,
   "id": "711ee169-c076-4e6e-8d3a-c29194de4aef",
   "metadata": {},
   "outputs": [
    {
     "name": "stdout",
     "output_type": "stream",
     "text": [
      "(5, 4, 3, 2, 1)\n"
     ]
    }
   ],
   "source": [
    "# Create a tuple\n",
    "my_tuple = (1, 2, 3, 4, 5)\n",
    "\n",
    "# Reverse the tuple using slicing\n",
    "reversed_tuple = my_tuple[::-1]\n",
    "\n",
    "print(reversed_tuple)"
   ]
  },
  {
   "cell_type": "markdown",
   "id": "39d730a8-7094-462a-a4f6-650ada9f048e",
   "metadata": {},
   "source": [
    "45. Create a tuple of the first `n` powers of 2."
   ]
  },
  {
   "cell_type": "code",
   "execution_count": 42,
   "id": "cbe21f96-0ec5-4a7d-82c3-c80eddbfc0b4",
   "metadata": {},
   "outputs": [
    {
     "name": "stdout",
     "output_type": "stream",
     "text": [
      "(1, 2, 4, 8, 16)\n"
     ]
    }
   ],
   "source": [
    "n = 5  # Change this to the desired number of powers of 2\n",
    "powers_of_2_tuple = tuple(2 ** i for i in range(n))\n",
    "\n",
    "print(powers_of_2_tuple)"
   ]
  },
  {
   "cell_type": "markdown",
   "id": "928f140b-8834-4272-9daa-92aa5f7dc1a1",
   "metadata": {},
   "source": [
    "46. Find the longest string in a tuple of strings."
   ]
  },
  {
   "cell_type": "code",
   "execution_count": 43,
   "id": "02544530-e4b5-45e4-9ec7-be2622dadeec",
   "metadata": {},
   "outputs": [
    {
     "name": "stdout",
     "output_type": "stream",
     "text": [
      "Longest string: elderberry\n"
     ]
    }
   ],
   "source": [
    "# Create a tuple of strings\n",
    "my_tuple = (\"apple\", \"banana\", \"cherry\", \"date\", \"elderberry\")\n",
    "\n",
    "# Initialize variables to store the longest string and its length\n",
    "longest_string = \"\"\n",
    "max_length = 0\n",
    "\n",
    "# Iterate through the tuple to find the longest string\n",
    "for string in my_tuple:\n",
    "    if len(string) > max_length:\n",
    "        longest_string = string\n",
    "        max_length = len(string)\n",
    "\n",
    "print(\"Longest string:\", longest_string)"
   ]
  },
  {
   "cell_type": "markdown",
   "id": "faed24ab-e940-4be5-9eca-b01b0e17c4c5",
   "metadata": {},
   "source": [
    "47. Find the shortest string in a tuple of strings."
   ]
  },
  {
   "cell_type": "code",
   "execution_count": 44,
   "id": "b6cf9c09-bdc4-4d18-a04e-74f0ca9d755d",
   "metadata": {},
   "outputs": [
    {
     "name": "stdout",
     "output_type": "stream",
     "text": [
      "Shortest string: date\n"
     ]
    }
   ],
   "source": [
    "# Create a tuple of strings\n",
    "my_tuple = (\"apple\", \"banana\", \"cherry\", \"date\", \"elderberry\")\n",
    "\n",
    "# Initialize variables to store the shortest string and its length\n",
    "shortest_string = None\n",
    "min_length = float('inf')\n",
    "\n",
    "# Iterate through the tuple to find the shortest string\n",
    "for string in my_tuple:\n",
    "    if len(string) < min_length:\n",
    "        shortest_string = string\n",
    "        min_length = len(string)\n",
    "\n",
    "print(\"Shortest string:\", shortest_string)"
   ]
  },
  {
   "cell_type": "markdown",
   "id": "3713988c-a9b8-41a5-b829-5b00a1fb21a7",
   "metadata": {},
   "source": [
    "48. Create a tuple of the first `n` triangular numbers."
   ]
  },
  {
   "cell_type": "code",
   "execution_count": 45,
   "id": "51d76b72-2c45-4932-9230-0170955dc099",
   "metadata": {},
   "outputs": [
    {
     "name": "stdout",
     "output_type": "stream",
     "text": [
      "(1, 3, 6, 10, 15)\n"
     ]
    }
   ],
   "source": [
    "def generate_triangular_numbers(n):\n",
    "    triangular_numbers = []\n",
    "    total = 0\n",
    "    for i in range(1, n + 1):\n",
    "        total += i\n",
    "        triangular_numbers.append(total)\n",
    "    return tuple(triangular_numbers)\n",
    "\n",
    "# Create a tuple of the first 5 triangular numbers\n",
    "first_5_triangular = generate_triangular_numbers(5)\n",
    "\n",
    "print(first_5_triangular)"
   ]
  },
  {
   "cell_type": "markdown",
   "id": "0b7f6e2f-323f-4f7d-9395-cf40d37c7c18",
   "metadata": {},
   "source": [
    "49. Check if a tuple contains another tuple as a subsequence."
   ]
  },
  {
   "cell_type": "code",
   "execution_count": 46,
   "id": "5c6fc7be-6580-4d49-834a-b42a8463e905",
   "metadata": {},
   "outputs": [
    {
     "name": "stdout",
     "output_type": "stream",
     "text": [
      "The main tuple contains the subsequence.\n"
     ]
    }
   ],
   "source": [
    "def contains_subsequence(main_tuple, sub_tuple):\n",
    "    # Initialize indices for the main tuple and sub tuple\n",
    "    main_index = 0\n",
    "    sub_index = 0\n",
    "\n",
    "    # Iterate through the main tuple\n",
    "    while main_index < len(main_tuple):\n",
    "        # If the current element matches the corresponding element in the sub tuple, move both indices\n",
    "        if main_tuple[main_index] == sub_tuple[sub_index]:\n",
    "            sub_index += 1\n",
    "            if sub_index == len(sub_tuple):\n",
    "                return True  # Found the subsequence\n",
    "        else:\n",
    "            # If there is no match, reset the subsequence index and continue searching\n",
    "            sub_index = 0\n",
    "        main_index += 1\n",
    "\n",
    "    # If we've gone through the entire main tuple without finding the subsequence, it's not there\n",
    "    return False\n",
    "\n",
    "# Example usage\n",
    "main_tuple = (1, 2, 3, 4, 5, 6)\n",
    "sub_tuple = (3, 4, 5)\n",
    "\n",
    "if contains_subsequence(main_tuple, sub_tuple):\n",
    "    print(\"The main tuple contains the subsequence.\")\n",
    "else:\n",
    "    print(\"The main tuple does not contain the subsequence.\")"
   ]
  },
  {
   "cell_type": "markdown",
   "id": "ccc22b3c-32d8-4968-8047-6edc865a5bc7",
   "metadata": {},
   "source": [
    "50. Create a tuple of alternating 1s and 0s of length `n`."
   ]
  },
  {
   "cell_type": "code",
   "execution_count": 47,
   "id": "c0374b22-9a95-4b59-9d85-ce528add7693",
   "metadata": {},
   "outputs": [
    {
     "name": "stdout",
     "output_type": "stream",
     "text": [
      "(1, 0, 1, 0, 1, 0, 1, 0, 1, 0)\n"
     ]
    }
   ],
   "source": [
    "n = 10  # Change this to the desired length\n",
    "alternating_tuple = tuple(1 if i % 2 == 0 else 0 for i in range(n))\n",
    "\n",
    "print(alternating_tuple)"
   ]
  },
  {
   "cell_type": "markdown",
   "id": "31e60c47-d386-4a34-888f-70720165345e",
   "metadata": {},
   "source": [
    "Set Based Practice Problem :"
   ]
  },
  {
   "cell_type": "markdown",
   "id": "f3d096c5-c0ae-4550-90b5-0f0e63d5ba91",
   "metadata": {},
   "source": [
    "1. Create a set with integers from 1 to 5."
   ]
  },
  {
   "cell_type": "code",
   "execution_count": 49,
   "id": "b0fdb4d6-da3a-474d-80de-c7eb47a83f8b",
   "metadata": {},
   "outputs": [],
   "source": [
    "my_set = {1, 2, 3, 4, 5}"
   ]
  },
  {
   "cell_type": "markdown",
   "id": "02a42f35-3ddc-44f4-9722-c9eb9f03414b",
   "metadata": {},
   "source": [
    "2. Add an element to a set."
   ]
  },
  {
   "cell_type": "code",
   "execution_count": 50,
   "id": "525a86cb-a4aa-4011-8865-1e4c1ef59da2",
   "metadata": {},
   "outputs": [
    {
     "name": "stdout",
     "output_type": "stream",
     "text": [
      "{1, 2, 3, 4, 5, 6}\n"
     ]
    }
   ],
   "source": [
    "# Create a set\n",
    "my_set = {1, 2, 3, 4, 5}\n",
    "\n",
    "# Add an element to the set\n",
    "my_set.add(6)\n",
    "\n",
    "# Print the updated set\n",
    "print(my_set)"
   ]
  },
  {
   "cell_type": "markdown",
   "id": "c3889a3b-8453-4efb-8bfa-ad12d29c5874",
   "metadata": {},
   "source": [
    "3. Remove an element from a set."
   ]
  },
  {
   "cell_type": "code",
   "execution_count": 51,
   "id": "338b5add-594a-4997-8bfc-f06fb9c1be9f",
   "metadata": {},
   "outputs": [
    {
     "name": "stdout",
     "output_type": "stream",
     "text": [
      "{1, 2, 4, 5}\n"
     ]
    }
   ],
   "source": [
    "# Create a set\n",
    "my_set = {1, 2, 3, 4, 5}\n",
    "\n",
    "# Remove an element from the set\n",
    "my_set.remove(3)\n",
    "\n",
    "# Print the updated set\n",
    "print(my_set)"
   ]
  },
  {
   "cell_type": "markdown",
   "id": "bf685f39-9372-4890-83d0-76dd6c50e2fb",
   "metadata": {},
   "source": [
    "4. Check if an element exists in a set."
   ]
  },
  {
   "cell_type": "code",
   "execution_count": 52,
   "id": "ae301d9b-05b0-449f-9a0e-df25358fd184",
   "metadata": {},
   "outputs": [
    {
     "name": "stdout",
     "output_type": "stream",
     "text": [
      "3 exists in the set.\n"
     ]
    }
   ],
   "source": [
    "# Create a set\n",
    "my_set = {1, 2, 3, 4, 5}\n",
    "\n",
    "# Check if an element exists in the set using the 'in' operator\n",
    "element_to_check = 3\n",
    "\n",
    "if element_to_check in my_set:\n",
    "    print(f\"{element_to_check} exists in the set.\")\n",
    "else:\n",
    "    print(f\"{element_to_check} does not exist in the set.\")\n"
   ]
  },
  {
   "cell_type": "markdown",
   "id": "cfd280e8-1010-4d5f-aaf1-af4ab7f198bf",
   "metadata": {},
   "source": [
    "5. Find the length of a set without using the `len()` function."
   ]
  },
  {
   "cell_type": "code",
   "execution_count": 53,
   "id": "b5c4d9e2-d981-4351-92ed-17912569b965",
   "metadata": {},
   "outputs": [
    {
     "name": "stdout",
     "output_type": "stream",
     "text": [
      "Length of the set: 5\n"
     ]
    }
   ],
   "source": [
    "# Create a set\n",
    "my_set = {1, 2, 3, 4, 5}\n",
    "\n",
    "# Initialize a counter variable\n",
    "count = 0\n",
    "\n",
    "# Iterate through the set and count its elements\n",
    "for _ in my_set:\n",
    "    count += 1\n",
    "\n",
    "# Print the length of the set\n",
    "print(\"Length of the set:\", count)"
   ]
  },
  {
   "cell_type": "markdown",
   "id": "ce030cf9-e448-4d00-ba9e-0c93e82db12b",
   "metadata": {},
   "source": [
    "6. Clear all elements from a set."
   ]
  },
  {
   "cell_type": "code",
   "execution_count": 54,
   "id": "5314b536-629b-4900-afaf-3647560f8f74",
   "metadata": {},
   "outputs": [
    {
     "name": "stdout",
     "output_type": "stream",
     "text": [
      "Cleared set: set()\n"
     ]
    }
   ],
   "source": [
    "# Create a set\n",
    "my_set = {1, 2, 3, 4, 5}\n",
    "\n",
    "# Clear all elements from the set\n",
    "my_set.clear()\n",
    "\n",
    "# Print the empty set\n",
    "print(\"Cleared set:\", my_set)"
   ]
  },
  {
   "cell_type": "markdown",
   "id": "10c13ad7-2d1e-42c7-a999-77085dc16719",
   "metadata": {},
   "source": [
    "7. Create a set of even numbers from 1 to 10."
   ]
  },
  {
   "cell_type": "code",
   "execution_count": 55,
   "id": "da974af5-d1c7-4982-9789-6ce7eae17543",
   "metadata": {},
   "outputs": [
    {
     "name": "stdout",
     "output_type": "stream",
     "text": [
      "{2, 4, 6, 8, 10}\n"
     ]
    }
   ],
   "source": [
    "# Using a set comprehension to create a set of even numbers from 1 to 10\n",
    "even_numbers_set = {x for x in range(1, 11) if x % 2 == 0}\n",
    "\n",
    "print(even_numbers_set)"
   ]
  },
  {
   "cell_type": "markdown",
   "id": "b00b4617-4a35-480e-aead-795b0ec3ee2f",
   "metadata": {},
   "source": [
    "8. Create a set of odd numbers from 1 to 10."
   ]
  },
  {
   "cell_type": "code",
   "execution_count": 56,
   "id": "db9379d1-c3be-448a-96b1-75e611ea783d",
   "metadata": {},
   "outputs": [
    {
     "name": "stdout",
     "output_type": "stream",
     "text": [
      "{1, 3, 5, 7, 9}\n"
     ]
    }
   ],
   "source": [
    "# Using a set comprehension to create a set of odd numbers from 1 to 10\n",
    "odd_numbers_set = {x for x in range(1, 11) if x % 2 != 0}\n",
    "\n",
    "print(odd_numbers_set)"
   ]
  },
  {
   "cell_type": "markdown",
   "id": "ca6bfa86-f9a4-4173-b542-ebd536074fb2",
   "metadata": {},
   "source": [
    "9. Find the union of two sets."
   ]
  },
  {
   "cell_type": "code",
   "execution_count": 57,
   "id": "16259c06-cf9c-4bda-9d2a-97431a18cec4",
   "metadata": {},
   "outputs": [
    {
     "name": "stdout",
     "output_type": "stream",
     "text": [
      "{1, 2, 3, 4, 5, 6, 7, 8}\n"
     ]
    }
   ],
   "source": [
    "# Create two sets\n",
    "set1 = {1, 2, 3, 4, 5}\n",
    "set2 = {4, 5, 6, 7, 8}\n",
    "\n",
    "# Find the union of the two sets using the 'union()' method\n",
    "union_set = set1.union(set2)\n",
    "\n",
    "# Print the union set\n",
    "print(union_set)"
   ]
  },
  {
   "cell_type": "markdown",
   "id": "c7236294-ab3f-4770-a439-1eed82c3c0af",
   "metadata": {},
   "source": [
    "10. Find the intersection of two sets."
   ]
  },
  {
   "cell_type": "code",
   "execution_count": 58,
   "id": "879ffff0-acea-4a2f-921c-17e62b7af29d",
   "metadata": {},
   "outputs": [
    {
     "name": "stdout",
     "output_type": "stream",
     "text": [
      "{4, 5}\n"
     ]
    }
   ],
   "source": [
    "# Create two sets\n",
    "set1 = {1, 2, 3, 4, 5}\n",
    "set2 = {4, 5, 6, 7, 8}\n",
    "\n",
    "# Find the intersection of the two sets using the 'intersection()' method\n",
    "intersection_set = set1.intersection(set2)\n",
    "\n",
    "# Print the intersection set\n",
    "print(intersection_set)"
   ]
  },
  {
   "cell_type": "markdown",
   "id": "f0658d33-8933-491c-9190-f8e2be68e183",
   "metadata": {},
   "source": [
    "11. Find the difference between two sets."
   ]
  },
  {
   "cell_type": "code",
   "execution_count": 59,
   "id": "9a06157c-ecfc-463d-9a15-0ca251904beb",
   "metadata": {},
   "outputs": [
    {
     "name": "stdout",
     "output_type": "stream",
     "text": [
      "{1, 2, 3}\n"
     ]
    }
   ],
   "source": [
    "# Create two sets\n",
    "set1 = {1, 2, 3, 4, 5}\n",
    "set2 = {4, 5, 6, 7, 8}\n",
    "\n",
    "# Find the difference between set1 and set2 using the 'difference()' method\n",
    "difference_set = set1.difference(set2)\n",
    "\n",
    "# Print the difference set\n",
    "print(difference_set)"
   ]
  },
  {
   "cell_type": "markdown",
   "id": "618b7583-ca67-4825-bd76-cc3cf92a6670",
   "metadata": {},
   "source": [
    "12. Check if a set is a subset of another set."
   ]
  },
  {
   "cell_type": "code",
   "execution_count": 60,
   "id": "c7771591-b60a-4d2a-ac4d-47ae57cc36e8",
   "metadata": {},
   "outputs": [
    {
     "name": "stdout",
     "output_type": "stream",
     "text": [
      "set1 is a subset of set2\n"
     ]
    }
   ],
   "source": [
    "# Create two sets\n",
    "set1 = {1, 2, 3}\n",
    "set2 = {1, 2, 3, 4, 5}\n",
    "\n",
    "# Check if set1 is a subset of set2 using the 'issubset()' method\n",
    "is_subset = set1.issubset(set2)\n",
    "\n",
    "# Print the result\n",
    "if is_subset:\n",
    "    print(\"set1 is a subset of set2\")\n",
    "else:\n",
    "    print(\"set1 is not a subset of set2\")"
   ]
  },
  {
   "cell_type": "markdown",
   "id": "39e9634f-7798-4711-89fc-e78c025430d7",
   "metadata": {},
   "source": [
    "13. Check if a set is a superset of another set."
   ]
  },
  {
   "cell_type": "code",
   "execution_count": 62,
   "id": "bd9a708e-e4b4-4498-bc18-6f6bc02602cf",
   "metadata": {},
   "outputs": [
    {
     "name": "stdout",
     "output_type": "stream",
     "text": [
      "set1 is a superset of set2\n"
     ]
    }
   ],
   "source": [
    "# Create two sets\n",
    "set1 = {1, 2, 3, 4, 5}\n",
    "set2 = {1, 2, 3}\n",
    "\n",
    "# Check if set1 is a superset of set2 using the 'issuperset()' method\n",
    "is_superset = set1.issuperset(set2)\n",
    "\n",
    "# Print the result\n",
    "if is_superset:\n",
    "    print(\"set1 is a superset of set2\")\n",
    "else:\n",
    "    print(\"set1 is not a superset of set2\")"
   ]
  },
  {
   "cell_type": "markdown",
   "id": "c77cb5da-0cdf-4847-8016-8e0534b6bba0",
   "metadata": {},
   "source": [
    "14. Create a set from a list."
   ]
  },
  {
   "cell_type": "code",
   "execution_count": 63,
   "id": "7b33738d-beac-49f6-bd7f-1e37665b6cb8",
   "metadata": {},
   "outputs": [
    {
     "name": "stdout",
     "output_type": "stream",
     "text": [
      "{1, 2, 3, 4, 5}\n"
     ]
    }
   ],
   "source": [
    "# Create a list\n",
    "my_list = [1, 2, 3, 4, 5]\n",
    "\n",
    "# Create a set from the list using the 'set()' constructor\n",
    "my_set = set(my_list)\n",
    "\n",
    "# Print the resulting set\n",
    "print(my_set)"
   ]
  },
  {
   "cell_type": "markdown",
   "id": "e6a94a18-72ac-4fc7-885a-aad6f07afc6e",
   "metadata": {},
   "source": [
    "15. Convert a set to a list."
   ]
  },
  {
   "cell_type": "code",
   "execution_count": 64,
   "id": "401e08e9-8da3-41e3-9d08-3d862c22d9e5",
   "metadata": {},
   "outputs": [
    {
     "name": "stdout",
     "output_type": "stream",
     "text": [
      "[1, 2, 3, 4, 5]\n"
     ]
    }
   ],
   "source": [
    "# Create a set\n",
    "my_set = {1, 2, 3, 4, 5}\n",
    "\n",
    "# Convert the set to a list using the 'list()' constructor\n",
    "my_list = list(my_set)\n",
    "\n",
    "# Print the resulting list\n",
    "print(my_list)"
   ]
  },
  {
   "cell_type": "markdown",
   "id": "1a6bb0ad-6156-4629-9f6e-b8e8fcead356",
   "metadata": {},
   "source": [
    "15. Convert a set to a list."
   ]
  },
  {
   "cell_type": "code",
   "execution_count": 65,
   "id": "c4d5c8b1-aa9e-4af4-8f5c-2bd04afa6f50",
   "metadata": {},
   "outputs": [
    {
     "name": "stdout",
     "output_type": "stream",
     "text": [
      "[1, 2, 3, 4, 5]\n"
     ]
    }
   ],
   "source": [
    "# Create a set\n",
    "my_set = {1, 2, 3, 4, 5}\n",
    "\n",
    "# Convert the set to a list using the 'list()' constructor\n",
    "my_list = list(my_set)\n",
    "\n",
    "# Print the resulting list\n",
    "print(my_list)"
   ]
  },
  {
   "cell_type": "markdown",
   "id": "8e90cf11-186b-4223-8092-4baa885b304b",
   "metadata": {},
   "source": [
    "16. Remove a random element from a set."
   ]
  },
  {
   "cell_type": "code",
   "execution_count": 66,
   "id": "1392b93c-9ebb-4390-a207-d6a3efe08e24",
   "metadata": {},
   "outputs": [
    {
     "name": "stdout",
     "output_type": "stream",
     "text": [
      "Random element removed: {2, 3, 4, 5}\n"
     ]
    }
   ],
   "source": [
    "import random\n",
    "\n",
    "# Create a set\n",
    "my_set = {1, 2, 3, 4, 5}\n",
    "\n",
    "# Generate a random element from the set\n",
    "random_element = random.choice(list(my_set))\n",
    "\n",
    "# Remove the random element from the set\n",
    "my_set.remove(random_element)\n",
    "\n",
    "# Print the updated set\n",
    "print(\"Random element removed:\", my_set)"
   ]
  },
  {
   "cell_type": "markdown",
   "id": "eb6e5d34-2973-48eb-bd21-d3322f380c1a",
   "metadata": {},
   "source": [
    "17. Pop an element from a set."
   ]
  },
  {
   "cell_type": "code",
   "execution_count": 67,
   "id": "9e5269da-3dca-404c-81f0-55ade62a4d8b",
   "metadata": {},
   "outputs": [
    {
     "name": "stdout",
     "output_type": "stream",
     "text": [
      "Popped element: 1\n",
      "Updated set: {2, 3, 4, 5}\n"
     ]
    }
   ],
   "source": [
    "# Create a set\n",
    "my_set = {1, 2, 3, 4, 5}\n",
    "\n",
    "# Pop an element from the set\n",
    "popped_element = my_set.pop()\n",
    "\n",
    "# Print the popped element and the updated set\n",
    "print(\"Popped element:\", popped_element)\n",
    "print(\"Updated set:\", my_set)"
   ]
  },
  {
   "cell_type": "markdown",
   "id": "85056da6-eaeb-4fb7-9c50-e71f889a48f6",
   "metadata": {},
   "source": [
    "18. Check if two sets have no elements in common."
   ]
  },
  {
   "cell_type": "code",
   "execution_count": 68,
   "id": "b52e3f90-30ed-4d1c-9eb8-689f0b7f8f9c",
   "metadata": {},
   "outputs": [
    {
     "name": "stdout",
     "output_type": "stream",
     "text": [
      "set1 and set2 have no elements in common (they are disjoint).\n"
     ]
    }
   ],
   "source": [
    "# Create two sets\n",
    "set1 = {1, 2, 3}\n",
    "set2 = {4, 5, 6}\n",
    "\n",
    "# Check if set1 and set2 are disjoint using the 'isdisjoint()' method\n",
    "are_disjoint = set1.isdisjoint(set2)\n",
    "\n",
    "# Print the result\n",
    "if are_disjoint:\n",
    "    print(\"set1 and set2 have no elements in common (they are disjoint).\")\n",
    "else:\n",
    "    print(\"set1 and set2 have at least one element in common.\")"
   ]
  },
  {
   "cell_type": "markdown",
   "id": "d47b4173-90e4-49dc-bc17-2e6931fd2a47",
   "metadata": {},
   "source": [
    "19. Find the symmetric difference between two sets."
   ]
  },
  {
   "cell_type": "code",
   "execution_count": 69,
   "id": "023442ad-f107-4ff4-b9ce-8fb0144125aa",
   "metadata": {},
   "outputs": [
    {
     "name": "stdout",
     "output_type": "stream",
     "text": [
      "{1, 2, 3, 6, 7, 8}\n"
     ]
    }
   ],
   "source": [
    "# Create two sets\n",
    "set1 = {1, 2, 3, 4, 5}\n",
    "set2 = {4, 5, 6, 7, 8}\n",
    "\n",
    "# Find the symmetric difference between set1 and set2 using the 'symmetric_difference()' method\n",
    "symmetric_diff = set1.symmetric_difference(set2)\n",
    "\n",
    "# Print the symmetric difference\n",
    "print(symmetric_diff)"
   ]
  },
  {
   "cell_type": "markdown",
   "id": "d2716b06-a727-4694-a8b7-5feee19f618f",
   "metadata": {},
   "source": [
    "20. Update a set with elements from another set."
   ]
  },
  {
   "cell_type": "code",
   "execution_count": 70,
   "id": "25c66f3e-315b-405e-a436-50237f16c4c2",
   "metadata": {},
   "outputs": [
    {
     "name": "stdout",
     "output_type": "stream",
     "text": [
      "{1, 2, 3, 4, 5}\n"
     ]
    }
   ],
   "source": [
    "# Create two sets\n",
    "set1 = {1, 2, 3}\n",
    "set2 = {3, 4, 5}\n",
    "\n",
    "# Update set1 with elements from set2 using the 'update()' method\n",
    "set1.update(set2)\n",
    "\n",
    "# Print the updated set1\n",
    "print(set1)"
   ]
  },
  {
   "cell_type": "markdown",
   "id": "e20eb1c9-afbd-4075-b09b-4b04d3b04cd7",
   "metadata": {},
   "source": [
    "21. Create a set of the first 5 prime numbers."
   ]
  },
  {
   "cell_type": "code",
   "execution_count": 72,
   "id": "bf6d8a7a-0573-4810-9072-81481834da15",
   "metadata": {},
   "outputs": [
    {
     "name": "stdout",
     "output_type": "stream",
     "text": [
      "{2, 3, 5, 7, 11}\n"
     ]
    }
   ],
   "source": [
    "# Create a set of the first 5 prime numbers\n",
    "prime_numbers_set = {2, 3, 5, 7, 11}\n",
    "\n",
    "# Print the set of prime numbers\n",
    "print(prime_numbers_set)"
   ]
  },
  {
   "cell_type": "markdown",
   "id": "e056a8d3-c8b6-4ec6-b8c9-723b709812d9",
   "metadata": {},
   "source": [
    "22. Check if two sets are identical."
   ]
  },
  {
   "cell_type": "code",
   "execution_count": 73,
   "id": "fa690130-b39a-4bf4-b0f2-c37416f57554",
   "metadata": {},
   "outputs": [
    {
     "name": "stdout",
     "output_type": "stream",
     "text": [
      "set1 and set2 are identical.\n"
     ]
    }
   ],
   "source": [
    "# Create two sets with the same elements\n",
    "set1 = {1, 2, 3, 4, 5}\n",
    "set2 = {5, 4, 3, 2, 1}\n",
    "\n",
    "# Check if set1 and set2 are identical using the '==' operator\n",
    "are_identical = set1 == set2\n",
    "\n",
    "# Print the result\n",
    "if are_identical:\n",
    "    print(\"set1 and set2 are identical.\")\n",
    "else:\n",
    "    print(\"set1 and set2 are not identical.\")"
   ]
  },
  {
   "cell_type": "markdown",
   "id": "0ecd9279-3afd-4b70-b87a-ec310638e6e4",
   "metadata": {},
   "source": [
    "23. Create a frozen set."
   ]
  },
  {
   "cell_type": "code",
   "execution_count": 74,
   "id": "e33eaba7-3220-42db-9bc9-2ea579a3d7bb",
   "metadata": {},
   "outputs": [
    {
     "name": "stdout",
     "output_type": "stream",
     "text": [
      "frozenset({1, 2, 3, 4, 5})\n"
     ]
    }
   ],
   "source": [
    "my_set = {1, 2, 3, 4, 5}\n",
    "my_frozen_set = frozenset(my_set)\n",
    "\n",
    "print(my_frozen_set)"
   ]
  },
  {
   "cell_type": "markdown",
   "id": "825400a2-ce1c-4091-8efa-10ec4a94f6fc",
   "metadata": {},
   "source": [
    "24. Check if a set is disjoint with another set."
   ]
  },
  {
   "cell_type": "code",
   "execution_count": 75,
   "id": "5d929050-f4da-4881-bd2a-cd1e7c80d0ee",
   "metadata": {},
   "outputs": [
    {
     "name": "stdout",
     "output_type": "stream",
     "text": [
      "The sets are disjoint.\n"
     ]
    }
   ],
   "source": [
    "set1 = {1, 2, 3}\n",
    "set2 = {4, 5, 6}\n",
    "\n",
    "# Check if set1 and set2 are disjoint\n",
    "is_disjoint = set1.isdisjoint(set2)\n",
    "\n",
    "if is_disjoint:\n",
    "    print(\"The sets are disjoint.\")\n",
    "else:\n",
    "    print(\"The sets have some common elements.\")"
   ]
  },
  {
   "cell_type": "markdown",
   "id": "99817d3c-3f53-4de6-a233-04c053523981",
   "metadata": {},
   "source": [
    "25. Create a set of squares of numbers from 1 to 5."
   ]
  },
  {
   "cell_type": "code",
   "execution_count": 76,
   "id": "75c74c75-0375-4b46-9b02-38b94139d54a",
   "metadata": {},
   "outputs": [
    {
     "name": "stdout",
     "output_type": "stream",
     "text": [
      "{1, 4, 9, 16, 25}\n"
     ]
    }
   ],
   "source": [
    "# Using a set comprehension to create a set of squares\n",
    "squares_set = {x**2 for x in range(1, 6)}\n",
    "\n",
    "print(squares_set)"
   ]
  },
  {
   "cell_type": "markdown",
   "id": "369d7a9c-25ab-4db2-a63f-75f8b8a71ef7",
   "metadata": {},
   "source": [
    "26. Filter out all even numbers from a set."
   ]
  },
  {
   "cell_type": "code",
   "execution_count": 77,
   "id": "5e9b11f9-6dc5-432d-9adb-6fdd434302be",
   "metadata": {},
   "outputs": [
    {
     "name": "stdout",
     "output_type": "stream",
     "text": [
      "{1, 3, 5, 7, 9}\n"
     ]
    }
   ],
   "source": [
    "original_set = {1, 2, 3, 4, 5, 6, 7, 8, 9, 10}\n",
    "\n",
    "# Use a set comprehension to filter out even numbers\n",
    "filtered_set = {x for x in original_set if x % 2 != 0}\n",
    "\n",
    "print(filtered_set)"
   ]
  },
  {
   "cell_type": "markdown",
   "id": "e033b902-3ec2-4be6-8bd2-3a980e338b63",
   "metadata": {},
   "source": [
    "27. Multiply all elements in a set by 2."
   ]
  },
  {
   "cell_type": "code",
   "execution_count": 79,
   "id": "cdd0b91e-d6d2-478b-83a0-e7ec183d0ba7",
   "metadata": {},
   "outputs": [
    {
     "name": "stdout",
     "output_type": "stream",
     "text": [
      "{2, 4, 6, 8, 10}\n"
     ]
    }
   ],
   "source": [
    "original_set = {1, 2, 3, 4, 5}\n",
    "\n",
    "# Create a new set with elements multiplied by 2\n",
    "result_set = {x * 2 for x in original_set}\n",
    "\n",
    "print(result_set)"
   ]
  },
  {
   "cell_type": "markdown",
   "id": "c1c6df2e-ff0b-4f03-b0b1-4c2f4ae20596",
   "metadata": {},
   "source": [
    "28. Create a set of random numbers."
   ]
  },
  {
   "cell_type": "code",
   "execution_count": 80,
   "id": "ca75846e-0474-4415-b55a-be4d128527eb",
   "metadata": {},
   "outputs": [
    {
     "name": "stdout",
     "output_type": "stream",
     "text": [
      "{69, 72, 76, 15, 16, 81, 21, 88, 56, 94}\n"
     ]
    }
   ],
   "source": [
    "import random\n",
    "\n",
    "# Create an empty set to store random numbers\n",
    "random_set = set()\n",
    "\n",
    "# Generate and add random numbers to the set\n",
    "for _ in range(10):  # Generating 10 random numbers for example\n",
    "    random_number = random.randint(1, 100)  # Replace the range with your desired range\n",
    "    random_set.add(random_number)\n",
    "\n",
    "print(random_set)"
   ]
  },
  {
   "cell_type": "markdown",
   "id": "e68f6602-1f3f-4a46-916c-53d25bf1e240",
   "metadata": {},
   "source": [
    "29. Check if a set is empty."
   ]
  },
  {
   "cell_type": "code",
   "execution_count": 81,
   "id": "2f944bc8-6c98-46b6-af73-d5a256ca8282",
   "metadata": {},
   "outputs": [
    {
     "name": "stdout",
     "output_type": "stream",
     "text": [
      "The set is empty.\n"
     ]
    }
   ],
   "source": [
    "my_set = set()\n",
    "\n",
    "if len(my_set) == 0:\n",
    "    print(\"The set is empty.\")\n",
    "else:\n",
    "    print(\"The set is not empty.\")"
   ]
  },
  {
   "cell_type": "markdown",
   "id": "67635765-aa16-4b64-a5eb-afb6a13b1de0",
   "metadata": {},
   "source": [
    "30. Create a nested set (hint: use frozenset)."
   ]
  },
  {
   "cell_type": "code",
   "execution_count": 82,
   "id": "ac944c65-8922-435c-b269-8fd09c290d93",
   "metadata": {},
   "outputs": [
    {
     "name": "stdout",
     "output_type": "stream",
     "text": [
      "{frozenset({1, 2, 3}), frozenset({4, 5, 6}), frozenset({8, 9, 7})}\n"
     ]
    }
   ],
   "source": [
    "# Create a nested set using frozensets\n",
    "nested_set = {frozenset({1, 2, 3}), frozenset({4, 5, 6}), frozenset({7, 8, 9})}\n",
    "\n",
    "print(nested_set)"
   ]
  },
  {
   "cell_type": "markdown",
   "id": "c95c34c1-d4bb-495e-b67b-41b1b659316b",
   "metadata": {},
   "source": [
    "31. Remove an element from a set using the discard method."
   ]
  },
  {
   "cell_type": "code",
   "execution_count": 83,
   "id": "ad62cd62-3c1e-4257-93a0-a141aee13166",
   "metadata": {},
   "outputs": [
    {
     "name": "stdout",
     "output_type": "stream",
     "text": [
      "{1, 2, 4, 5}\n"
     ]
    }
   ],
   "source": [
    "my_set = {1, 2, 3, 4, 5}\n",
    "\n",
    "# Remove an element from the set using discard()\n",
    "my_set.discard(3)\n",
    "\n",
    "print(my_set)"
   ]
  },
  {
   "cell_type": "markdown",
   "id": "661c7f42-ab42-4f04-9dd8-0a67d20dee70",
   "metadata": {},
   "source": [
    "32. Compare two sets."
   ]
  },
  {
   "cell_type": "code",
   "execution_count": 84,
   "id": "66540471-5306-4dc5-9941-4d96aecd3291",
   "metadata": {},
   "outputs": [
    {
     "name": "stdout",
     "output_type": "stream",
     "text": [
      "The sets are equal.\n"
     ]
    }
   ],
   "source": [
    "set1 = {1, 2, 3}\n",
    "set2 = {3, 2, 1}\n",
    "\n",
    "if set1 == set2:\n",
    "    print(\"The sets are equal.\")\n",
    "else:\n",
    "    print(\"The sets are not equal.\")"
   ]
  },
  {
   "cell_type": "markdown",
   "id": "04255123-ea16-453c-8b67-468d28327705",
   "metadata": {},
   "source": [
    "33. Create a set from a string."
   ]
  },
  {
   "cell_type": "code",
   "execution_count": 85,
   "id": "a10bf88a-5b6f-4778-a363-ca7f9f384e4e",
   "metadata": {},
   "outputs": [
    {
     "name": "stdout",
     "output_type": "stream",
     "text": [
      "{'e', 'h', 'o', 'l'}\n"
     ]
    }
   ],
   "source": [
    "my_string = \"hello\"\n",
    "\n",
    "# Create a set from the characters in the string\n",
    "my_set = set()\n",
    "\n",
    "for char in my_string:\n",
    "    my_set.add(char)\n",
    "\n",
    "print(my_set)"
   ]
  },
  {
   "cell_type": "markdown",
   "id": "5ef93b09-6082-4ae5-89ca-d7608cc74c8b",
   "metadata": {},
   "source": [
    "34. Convert a set of strings to a set of integers."
   ]
  },
  {
   "cell_type": "code",
   "execution_count": 87,
   "id": "b15acf5d-7945-4d0d-b2eb-1047090f2a11",
   "metadata": {},
   "outputs": [
    {
     "name": "stdout",
     "output_type": "stream",
     "text": [
      "{1, 2, 3, 4, 5}\n"
     ]
    }
   ],
   "source": [
    "# Set of strings\n",
    "string_set = {\"1\", \"2\", \"3\", \"4\", \"5\"}\n",
    "\n",
    "# Convert the set of strings to a set of integers\n",
    "int_set = {int(s) for s in string_set}\n",
    "\n",
    "print(int_set)"
   ]
  },
  {
   "cell_type": "markdown",
   "id": "b7f49558-8ea2-422e-a776-441953fda267",
   "metadata": {},
   "source": [
    "35. Convert a set of integers to a set of strings."
   ]
  },
  {
   "cell_type": "code",
   "execution_count": 89,
   "id": "334fb644-af44-4f42-8d07-ac0da315d450",
   "metadata": {},
   "outputs": [
    {
     "name": "stdout",
     "output_type": "stream",
     "text": [
      "{'1', '4', '5', '3', '2'}\n"
     ]
    }
   ],
   "source": [
    "# Set of integers\n",
    "int_set = {1, 2, 3, 4, 5}\n",
    "\n",
    "# Convert the set of integers to a set of strings\n",
    "string_set = {str(i) for i in int_set}\n",
    "\n",
    "print(string_set)"
   ]
  },
  {
   "cell_type": "markdown",
   "id": "f440f88f-2324-4ba4-a448-28edba298b3d",
   "metadata": {},
   "source": [
    "36. Create a set from a tuple."
   ]
  },
  {
   "cell_type": "code",
   "execution_count": 90,
   "id": "db5bab7f-be62-4978-86fd-b46b16f13f34",
   "metadata": {},
   "outputs": [
    {
     "name": "stdout",
     "output_type": "stream",
     "text": [
      "{1, 2, 3, 4, 5}\n"
     ]
    }
   ],
   "source": [
    "my_tuple = (1, 2, 3, 4, 5)\n",
    "\n",
    "# Create a set from the tuple\n",
    "my_set = set(my_tuple)\n",
    "\n",
    "print(my_set)"
   ]
  },
  {
   "cell_type": "markdown",
   "id": "1c539d52-8752-4b70-9829-b4bb730dc7ed",
   "metadata": {},
   "source": [
    "37. Convert a set to a tuple."
   ]
  },
  {
   "cell_type": "code",
   "execution_count": 91,
   "id": "f4ad36cf-fb7c-4df5-ba47-dca3d91fa66b",
   "metadata": {},
   "outputs": [
    {
     "name": "stdout",
     "output_type": "stream",
     "text": [
      "(1, 2, 3, 4, 5)\n"
     ]
    }
   ],
   "source": [
    "my_set = {1, 2, 3, 4, 5}\n",
    "\n",
    "# Convert the set to a tuple\n",
    "my_tuple = tuple(my_set)\n",
    "\n",
    "print(my_tuple)"
   ]
  },
  {
   "cell_type": "markdown",
   "id": "4f564b71-d56d-458a-8b5c-6912829b7c5a",
   "metadata": {},
   "source": [
    "38. Find the maximum value in a set."
   ]
  },
  {
   "cell_type": "code",
   "execution_count": 92,
   "id": "8ceb97f8-20c3-4cbb-8549-662f0d546051",
   "metadata": {},
   "outputs": [
    {
     "name": "stdout",
     "output_type": "stream",
     "text": [
      "Maximum value in the set: 15\n"
     ]
    }
   ],
   "source": [
    "my_set = {10, 5, 8, 15, 3}\n",
    "\n",
    "# Find the maximum value in the set\n",
    "max_value = max(my_set)\n",
    "\n",
    "print(\"Maximum value in the set:\", max_value)"
   ]
  },
  {
   "cell_type": "markdown",
   "id": "b6f0433c-4469-40ce-aca0-74327807eceb",
   "metadata": {},
   "source": [
    "39. Find the minimum value in a set."
   ]
  },
  {
   "cell_type": "code",
   "execution_count": 93,
   "id": "c4eb3ab7-7261-4c1b-93a8-a083685c9135",
   "metadata": {},
   "outputs": [
    {
     "name": "stdout",
     "output_type": "stream",
     "text": [
      "Minimum value in the set: 3\n"
     ]
    }
   ],
   "source": [
    "my_set = {10, 5, 8, 15, 3}\n",
    "\n",
    "# Find the minimum value in the set\n",
    "min_value = min(my_set)\n",
    "\n",
    "print(\"Minimum value in the set:\", min_value)"
   ]
  },
  {
   "cell_type": "markdown",
   "id": "e6c15ec8-8373-47f3-b8f7-80fbaeb534ae",
   "metadata": {},
   "source": [
    "40. Create a set from user input."
   ]
  },
  {
   "cell_type": "code",
   "execution_count": 94,
   "id": "8a464470-8d84-444c-8660-f1dc2cd05ca0",
   "metadata": {},
   "outputs": [
    {
     "name": "stdin",
     "output_type": "stream",
     "text": [
      "Enter elements separated by commas:  shweta,nimbenni\n"
     ]
    },
    {
     "name": "stdout",
     "output_type": "stream",
     "text": [
      "User input as a set: {'shweta', 'nimbenni'}\n"
     ]
    }
   ],
   "source": [
    "# Get user input as a comma-separated string\n",
    "input_str = input(\"Enter elements separated by commas: \")\n",
    "\n",
    "# Split the input string into a list of elements\n",
    "input_list = input_str.split(\",\")\n",
    "\n",
    "# Convert the list to a set\n",
    "user_set = set(input_list)\n",
    "\n",
    "print(\"User input as a set:\", user_set)"
   ]
  },
  {
   "cell_type": "markdown",
   "id": "952804a6-d9da-4d1d-9945-e48fa9011b8d",
   "metadata": {},
   "source": [
    "41. Check if the intersection of two sets is empty."
   ]
  },
  {
   "cell_type": "code",
   "execution_count": 95,
   "id": "3eaaf2a3-7524-4850-b973-fc5b9ded1654",
   "metadata": {},
   "outputs": [
    {
     "name": "stdout",
     "output_type": "stream",
     "text": [
      "The sets have no common elements (intersection is empty).\n"
     ]
    }
   ],
   "source": [
    "set1 = {1, 2, 3}\n",
    "set2 = {4, 5, 6}\n",
    "\n",
    "# Check if the intersection is empty using isdisjoint()\n",
    "if set1.isdisjoint(set2):\n",
    "    print(\"The sets have no common elements (intersection is empty).\")\n",
    "else:\n",
    "    print(\"The sets have some common elements (intersection is not empty).\")"
   ]
  },
  {
   "cell_type": "markdown",
   "id": "010c0b9f-4394-40a1-8089-5303ccf9f8ca",
   "metadata": {},
   "source": [
    "42. Create a set of the first 5 Fibonacci numbers."
   ]
  },
  {
   "cell_type": "code",
   "execution_count": 96,
   "id": "cd81ec49-6087-4afc-b28a-cd32fe05192f",
   "metadata": {},
   "outputs": [
    {
     "name": "stdout",
     "output_type": "stream",
     "text": [
      "{0, 1, 2, 3}\n"
     ]
    }
   ],
   "source": [
    "# Function to generate the first n Fibonacci numbers\n",
    "def generate_fibonacci(n):\n",
    "    fibonacci_set = set()\n",
    "    a, b = 0, 1\n",
    "    for _ in range(n):\n",
    "        fibonacci_set.add(a)\n",
    "        a, b = b, a + b\n",
    "    return fibonacci_set\n",
    "\n",
    "# Create a set of the first 5 Fibonacci numbers\n",
    "first_5_fibonacci = generate_fibonacci(5)\n",
    "\n",
    "print(first_5_fibonacci)"
   ]
  },
  {
   "cell_type": "markdown",
   "id": "91fb204f-023d-40a8-8ecb-5d2009e1b201",
   "metadata": {},
   "source": [
    "43. Remove duplicates from a list using sets."
   ]
  },
  {
   "cell_type": "code",
   "execution_count": 97,
   "id": "f2959d4f-27a1-45e9-9940-654644149b7b",
   "metadata": {},
   "outputs": [
    {
     "name": "stdout",
     "output_type": "stream",
     "text": [
      "[1, 2, 3, 4, 5]\n"
     ]
    }
   ],
   "source": [
    "my_list = [1, 2, 2, 3, 4, 4, 5]\n",
    "\n",
    "# Remove duplicates by converting to a set and then back to a list\n",
    "my_list_without_duplicates = list(set(my_list))\n",
    "\n",
    "print(my_list_without_duplicates)"
   ]
  },
  {
   "cell_type": "markdown",
   "id": "aba1dd19-6834-406f-9c43-d49c9057d7b0",
   "metadata": {},
   "source": [
    "44. Check if two sets have the same elements, regardless of their count."
   ]
  },
  {
   "cell_type": "code",
   "execution_count": 98,
   "id": "3e196215-e670-4d56-8f33-52ba0cede483",
   "metadata": {},
   "outputs": [
    {
     "name": "stdout",
     "output_type": "stream",
     "text": [
      "set1 and set2 have the same elements.\n",
      "set1 and set3 have the same elements.\n"
     ]
    }
   ],
   "source": [
    "set1 = {1, 2, 3, 4, 5}\n",
    "set2 = {5, 4, 3, 2, 1}\n",
    "set3 = {1, 2, 2, 3, 4, 5}\n",
    "\n",
    "# Check if set1 and set2 have the same elements (order doesn't matter)\n",
    "if set1 == set2:\n",
    "    print(\"set1 and set2 have the same elements.\")\n",
    "else:\n",
    "    print(\"set1 and set2 do not have the same elements.\")\n",
    "\n",
    "# Check if set1 and set3 have the same elements (order and duplicates don't matter)\n",
    "if set1 == set3:\n",
    "    print(\"set1 and set3 have the same elements.\")\n",
    "else:\n",
    "    print(\"set1 and set3 do not have the same elements.\")"
   ]
  },
  {
   "cell_type": "markdown",
   "id": "3825be33-38b1-4d5b-b757-95c505dcdad9",
   "metadata": {},
   "source": [
    "45. Create a set of the first `n` powers of 2."
   ]
  },
  {
   "cell_type": "code",
   "execution_count": 99,
   "id": "474295c6-a530-409c-815e-42baea990427",
   "metadata": {},
   "outputs": [
    {
     "name": "stdout",
     "output_type": "stream",
     "text": [
      "{1, 2, 4, 8, 16}\n"
     ]
    }
   ],
   "source": [
    "# Function to generate the first n powers of 2\n",
    "def generate_powers_of_2(n):\n",
    "    powers_of_2_set = set()\n",
    "    for i in range(n):\n",
    "        power = 2 ** i\n",
    "        powers_of_2_set.add(power)\n",
    "    return powers_of_2_set\n",
    "\n",
    "# Create a set of the first 5 powers of 2\n",
    "first_5_powers_of_2 = generate_powers_of_2(5)\n",
    "\n",
    "print(first_5_powers_of_2)"
   ]
  },
  {
   "cell_type": "markdown",
   "id": "c4ecc101-0268-497a-9333-7ce9b201cd5c",
   "metadata": {},
   "source": [
    "46. Find the common elements between a set and a list."
   ]
  },
  {
   "cell_type": "code",
   "execution_count": 100,
   "id": "a66a623b-fc7f-4e25-9ac6-af5d2591b81c",
   "metadata": {},
   "outputs": [
    {
     "name": "stdout",
     "output_type": "stream",
     "text": [
      "Common elements: {3, 4, 5}\n"
     ]
    }
   ],
   "source": [
    "my_set = {1, 2, 3, 4, 5}\n",
    "my_list = [3, 4, 5, 6, 7]\n",
    "\n",
    "# Find the common elements between the set and the list\n",
    "common_elements = my_set.intersection(my_list)\n",
    "\n",
    "print(\"Common elements:\", common_elements)"
   ]
  },
  {
   "cell_type": "markdown",
   "id": "0749ec9e-bec8-415b-9089-e46cbab9104d",
   "metadata": {},
   "source": [
    "47. Create a set of the first `n` triangular numbers."
   ]
  },
  {
   "cell_type": "code",
   "execution_count": 101,
   "id": "1feef389-023d-4068-8e56-4a622f3f5ca6",
   "metadata": {},
   "outputs": [
    {
     "name": "stdout",
     "output_type": "stream",
     "text": [
      "{1, 3, 6, 10, 15}\n"
     ]
    }
   ],
   "source": [
    "# Function to generate the first n triangular numbers\n",
    "def generate_triangular_numbers(n):\n",
    "    triangular_numbers_set = set()\n",
    "    total = 0\n",
    "    for i in range(1, n + 1):\n",
    "        total += i\n",
    "        triangular_numbers_set.add(total)\n",
    "    return triangular_numbers_set\n",
    "\n",
    "# Create a set of the first 5 triangular numbers\n",
    "first_5_triangular_numbers = generate_triangular_numbers(5)\n",
    "\n",
    "print(first_5_triangular_numbers)"
   ]
  },
  {
   "cell_type": "markdown",
   "id": "6ee714d6-7640-47b5-b7da-bfa265acd924",
   "metadata": {},
   "source": [
    "48. Check if a set contains another set as a subset."
   ]
  },
  {
   "cell_type": "code",
   "execution_count": 103,
   "id": "d8e931f3-143d-4c66-816d-889057d8a0ab",
   "metadata": {},
   "outputs": [
    {
     "name": "stdout",
     "output_type": "stream",
     "text": [
      "set2 is a subset of set1.\n"
     ]
    }
   ],
   "source": [
    "set1 = {1, 2, 3, 4, 5}\n",
    "set2 = {2, 3, 4}\n",
    "\n",
    "# Check if set2 is a subset of set1 using issubset()\n",
    "if set2.issubset(set1):\n",
    "    print(\"set2 is a subset of set1.\")\n",
    "else:\n",
    "    print(\"set2 is not a subset of set1.\")"
   ]
  },
  {
   "cell_type": "markdown",
   "id": "96fc66cb-0412-42e9-85c8-620132cbdbf4",
   "metadata": {},
   "source": [
    "49. Create a set of alternating 1s and 0s of length `n`."
   ]
  },
  {
   "cell_type": "code",
   "execution_count": 104,
   "id": "a340d1b1-b250-429c-94e4-0d923502d893",
   "metadata": {},
   "outputs": [
    {
     "name": "stdout",
     "output_type": "stream",
     "text": [
      "{0, 1}\n"
     ]
    }
   ],
   "source": [
    "# Function to create a set of alternating 1s and 0s of length n\n",
    "def create_alternating_set(n):\n",
    "    alternating_set = set()\n",
    "    for i in range(n):\n",
    "        alternating_set.add(i % 2)\n",
    "    return alternating_set\n",
    "\n",
    "# Create a set of alternating 1s and 0s of length 5\n",
    "alternating_set_5 = create_alternating_set(5)\n",
    "\n",
    "print(alternating_set_5)"
   ]
  },
  {
   "cell_type": "markdown",
   "id": "203e2354-74ee-4edb-b32b-be4a88a6440c",
   "metadata": {},
   "source": [
    "50. Merge multiple sets into one."
   ]
  },
  {
   "cell_type": "code",
   "execution_count": 105,
   "id": "7c551f79-0606-49ca-b68d-ecd11c1bfc4e",
   "metadata": {},
   "outputs": [
    {
     "name": "stdout",
     "output_type": "stream",
     "text": [
      "{1, 2, 3, 4, 5, 6, 7}\n"
     ]
    }
   ],
   "source": [
    "set1 = {1, 2, 3}\n",
    "set2 = {3, 4, 5}\n",
    "set3 = {5, 6, 7}\n",
    "\n",
    "# Merge the sets using the union() method\n",
    "merged_set = set1.union(set2, set3)\n",
    "\n",
    "print(merged_set)"
   ]
  }
 ],
 "metadata": {
  "kernelspec": {
   "display_name": "Python 3 (ipykernel)",
   "language": "python",
   "name": "python3"
  },
  "language_info": {
   "codemirror_mode": {
    "name": "ipython",
    "version": 3
   },
   "file_extension": ".py",
   "mimetype": "text/x-python",
   "name": "python",
   "nbconvert_exporter": "python",
   "pygments_lexer": "ipython3",
   "version": "3.10.8"
  }
 },
 "nbformat": 4,
 "nbformat_minor": 5
}
